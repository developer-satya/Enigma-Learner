{
 "cells": [
  {
   "cell_type": "code",
   "execution_count": 1,
   "id": "0d9ddf1d",
   "metadata": {},
   "outputs": [],
   "source": [
    "import boto3"
   ]
  },
  {
   "cell_type": "code",
   "execution_count": 2,
   "id": "6312d4c6",
   "metadata": {},
   "outputs": [],
   "source": [
    "mysns = boto3.client(\"sns\")"
   ]
  },
  {
   "cell_type": "code",
   "execution_count": 3,
   "id": "c317b944",
   "metadata": {},
   "outputs": [
    {
     "data": {
      "text/plain": [
       "{'MessageId': '324cfcef-779c-52f1-b48d-a2cef9e9edd2',\n",
       " 'ResponseMetadata': {'RequestId': '30c48e3c-dbb1-527b-8b38-d01d55c4fd58',\n",
       "  'HTTPStatusCode': 200,\n",
       "  'HTTPHeaders': {'x-amzn-requestid': '30c48e3c-dbb1-527b-8b38-d01d55c4fd58',\n",
       "   'date': 'Wed, 17 Jan 2024 08:13:41 GMT',\n",
       "   'content-type': 'text/xml',\n",
       "   'content-length': '294',\n",
       "   'connection': 'keep-alive'},\n",
       "  'RetryAttempts': 0}}"
      ]
     },
     "execution_count": 3,
     "metadata": {},
     "output_type": "execute_result"
    }
   ],
   "source": [
    "mysns.publish(\n",
    "    Message=\"its testing message!⚠️\",\n",
    "    Subject=\"⚠️Warning\",\n",
    "    TopicArn=\"arn:aws:sns:ap-south-1:943393446406:s3delete\"\n",
    ")"
   ]
  },
  {
   "cell_type": "code",
   "execution_count": 1,
   "id": "b2f0fb25",
   "metadata": {},
   "outputs": [],
   "source": [
    "import boto3"
   ]
  },
  {
   "cell_type": "code",
   "execution_count": 2,
   "id": "14bc184d",
   "metadata": {},
   "outputs": [],
   "source": [
    "mysns = boto3.client(\"sns\")"
   ]
  },
  {
   "cell_type": "code",
   "execution_count": null,
   "id": "f1bcfc6d",
   "metadata": {},
   "outputs": [],
   "source": []
  }
 ],
 "metadata": {
  "kernelspec": {
   "display_name": "Python 3 (ipykernel)",
   "language": "python",
   "name": "python3"
  },
  "language_info": {
   "codemirror_mode": {
    "name": "ipython",
    "version": 3
   },
   "file_extension": ".py",
   "mimetype": "text/x-python",
   "name": "python",
   "nbconvert_exporter": "python",
   "pygments_lexer": "ipython3",
   "version": "3.11.4"
  }
 },
 "nbformat": 4,
 "nbformat_minor": 5
}
