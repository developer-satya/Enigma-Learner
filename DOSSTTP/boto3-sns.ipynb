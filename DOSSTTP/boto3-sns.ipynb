{
 "cells": [
  {
   "cell_type": "code",
   "execution_count": 1,
   "id": "1dd1226b",
   "metadata": {},
   "outputs": [],
   "source": [
    "import boto3"
   ]
  },
  {
   "cell_type": "code",
   "execution_count": 2,
   "id": "67d63488",
   "metadata": {},
   "outputs": [],
   "source": [
    "mysns = boto3.client(\"sns\")"
   ]
  },
  {
   "cell_type": "code",
   "execution_count": 3,
   "id": "d35a8ecd",
   "metadata": {},
   "outputs": [
    {
     "data": {
      "text/plain": [
       "{'MessageId': '3f31e41d-86f8-53cb-ac9d-ba3f7b90a174',\n",
       " 'ResponseMetadata': {'RequestId': '0a0b64b7-5377-5922-9edc-3a95ae1fab9d',\n",
       "  'HTTPStatusCode': 200,\n",
       "  'HTTPHeaders': {'x-amzn-requestid': '0a0b64b7-5377-5922-9edc-3a95ae1fab9d',\n",
       "   'date': 'Thu, 18 Jan 2024 10:19:20 GMT',\n",
       "   'content-type': 'text/xml',\n",
       "   'content-length': '294',\n",
       "   'connection': 'keep-alive'},\n",
       "  'RetryAttempts': 0}}"
      ]
     },
     "execution_count": 3,
     "metadata": {},
     "output_type": "execute_result"
    }
   ],
   "source": [
    "mysns.publish(Message=\"Hello this is test SMS from Amazon web service by Satya Narayan Yadav.\",\n",
    "             Subject=\"AWS SMS Service\",\n",
    "             TopicArn=\"arn:aws:sns:ap-south-1:943393446406:SMS-notify\")"
   ]
  },
  {
   "cell_type": "code",
   "execution_count": null,
   "id": "ecd45ce9",
   "metadata": {},
   "outputs": [],
   "source": []
  }
 ],
 "metadata": {
  "kernelspec": {
   "display_name": "Python 3 (ipykernel)",
   "language": "python",
   "name": "python3"
  },
  "language_info": {
   "codemirror_mode": {
    "name": "ipython",
    "version": 3
   },
   "file_extension": ".py",
   "mimetype": "text/x-python",
   "name": "python",
   "nbconvert_exporter": "python",
   "pygments_lexer": "ipython3",
   "version": "3.11.4"
  }
 },
 "nbformat": 4,
 "nbformat_minor": 5
}
