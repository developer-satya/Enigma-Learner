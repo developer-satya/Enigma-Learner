{
 "cells": [
  {
   "cell_type": "code",
   "execution_count": null,
   "id": "483b59d5",
   "metadata": {
    "scrolled": true
   },
   "outputs": [],
   "source": [
    "# pip install cvzone"
   ]
  },
  {
   "cell_type": "code",
   "execution_count": null,
   "id": "7617d838",
   "metadata": {},
   "outputs": [],
   "source": [
    "# pip install mediapipe"
   ]
  },
  {
   "cell_type": "code",
   "execution_count": null,
   "id": "c93d61cf",
   "metadata": {},
   "outputs": [],
   "source": [
    "import cv2\n",
    "from cvzone.HandTrackingModule import HandDetector\n",
    "import os\n",
    "\n",
    "model = HandDetector()\n",
    "cap=cv2.VideoCapture(0)\n",
    "while True:   \n",
    "    status,photo=cap.read()\n",
    "    hand=model.findHands(photo)\n",
    "    cv2.imshow(\"hii\",photo)\n",
    "    if cv2.waitKey(100) ==13:\n",
    "        break\n",
    "    lmlist=hand[0]\n",
    "#     print(lmlist)\n",
    "    while len(lmlist)!=0:\n",
    "        fingeruplist=model.fingersUp(lmlist[0])\n",
    "        print(fingeruplist)\n",
    "        if fingeruplist ==[1,0,0,0,0]:\n",
    "            os.system(\"mspaint\")\n",
    "            break\n",
    "        elif fingeruplist ==[0,1,0,0,0]:\n",
    "            os.system(\"control panel\")\n",
    "            break\n",
    "        elif fingeruplist ==[0,0,1,0,0]:\n",
    "            print(\"Go to hell!!\")\n",
    "            break\n",
    "        elif fingeruplist ==[0,0,0,1,0]:\n",
    "            os.system(\"cmd\")\n",
    "            break\n",
    "        elif fingeruplist ==[0,0,0,0,1]:\n",
    "            os.system(\"notepad\")\n",
    "            break\n",
    "        elif fingeruplist ==[1,1,1,1,1]:\n",
    "            print(\"Hii! HOw are you ? \")\n",
    "            break\n",
    "        else:\n",
    "            print(\"Unable to recognise!\")\n",
    "            break\n",
    "\n",
    "cap.release()\n",
    "cv2.destroyAllWindows()"
   ]
  },
  {
   "cell_type": "markdown",
   "id": "e53770b4",
   "metadata": {},
   "source": [
    "##  Add emoji at hand gesture"
   ]
  },
  {
   "cell_type": "code",
   "execution_count": 30,
   "id": "b5740970",
   "metadata": {},
   "outputs": [],
   "source": [
    "import cv2\n",
    "\n",
    "cap = cv2.VideoCapture(0)\n",
    "\n",
    "while True:\n",
    "    if cv2.waitKey(50) == 13:\n",
    "        break\n",
    "    status, photo = cap.read()\n",
    "    gray_photo = cv2.cvtColor(photo, cv2.COLOR_BGR2GRAY)\n",
    "    new_photo = cv2.resize(photo, (160,120))\n",
    "    new_gray_photo = cv2.resize(gray_photo, (160,120))\n",
    "    \n",
    "#     rectangle = cv2.rectangle(photo,(100, 100),  (400, 400), (255, 0, 0),5)\n",
    "    \n",
    "    photo[340:460,40:200] = new_photo\n",
    "    cv2.imshow(\"Add filter on hand\", photo)\n",
    "\n",
    "cap.release()\n",
    "cv2.destroyAllWindows()"
   ]
  },
  {
   "cell_type": "code",
   "execution_count": null,
   "id": "9a1f7d4a",
   "metadata": {},
   "outputs": [],
   "source": [
    "# window size : 480 640\n",
    "# hand co-or: (52, 49, 265, 357)\n",
    "# 477, 37, 149, 266\n",
    "\n"
   ]
  },
  {
   "cell_type": "code",
   "execution_count": 8,
   "id": "68d4c457",
   "metadata": {},
   "outputs": [
    {
     "data": {
      "text/plain": [
       "(50, 50, 3)"
      ]
     },
     "execution_count": 8,
     "metadata": {},
     "output_type": "execute_result"
    }
   ],
   "source": [
    "import cv2\n",
    "from matplotlib import pyplot as plt\n",
    "\n",
    "emoji = cv2.imread(\"smiley.png\")\n",
    "new_emoji = cv2.resize(emoji,(50,50))\n",
    "cv2.namedWindow(\"smiley\")\n",
    "# cv2.resizeWindow(\"smiley\",100,100)\n",
    "cv2.imshow(\"smiley\",new_emoji)\n",
    "cv2.waitKey(0)\n",
    "new_emoji.shape\n",
    "\n",
    "# cv2.imshow(\"Smiley\", emoji)"
   ]
  },
  {
   "cell_type": "markdown",
   "id": "b254f276",
   "metadata": {},
   "source": [
    "##  Add emoji at hand gesture"
   ]
  },
  {
   "cell_type": "code",
   "execution_count": 1,
   "id": "b210e738",
   "metadata": {},
   "outputs": [],
   "source": [
    "import cv2\n",
    "from cvzone.HandTrackingModule import HandDetector\n",
    "\n",
    "model = HandDetector()\n",
    "cap = cv2.VideoCapture(0)\n",
    "\n",
    "while True:\n",
    "    if cv2.waitKey(10) == 13:\n",
    "        break\n",
    "    status, photo = cap.read()\n",
    "    emoji = cv2.imread(\"./smiley.png\")\n",
    "    new_emoji = cv2.resize(emoji,(60,60))\n",
    "    \n",
    "    hand = model.findHands(photo, draw=True)\n",
    "    if hand[0]:\n",
    "        x,y = hand[0][0]['center'][0],hand[0][0]['center'][1]\n",
    "        photo[y-30:y+30,x-30:x+30] = new_emoji\n",
    "    cv2.imshow(\"Add filter on hand\", photo)    \n",
    "\n",
    "cap.release()\n",
    "cv2.destroyAllWindows()"
   ]
  },
  {
   "cell_type": "code",
   "execution_count": null,
   "id": "92380aba",
   "metadata": {},
   "outputs": [],
   "source": []
  }
 ],
 "metadata": {
  "kernelspec": {
   "display_name": "Python 3 (ipykernel)",
   "language": "python",
   "name": "python3"
  },
  "language_info": {
   "codemirror_mode": {
    "name": "ipython",
    "version": 3
   },
   "file_extension": ".py",
   "mimetype": "text/x-python",
   "name": "python",
   "nbconvert_exporter": "python",
   "pygments_lexer": "ipython3",
   "version": "3.11.4"
  }
 },
 "nbformat": 4,
 "nbformat_minor": 5
}
