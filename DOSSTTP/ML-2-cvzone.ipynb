{
 "cells": [
  {
   "cell_type": "code",
   "execution_count": null,
   "id": "483b59d5",
   "metadata": {
    "scrolled": true
   },
   "outputs": [],
   "source": [
    "# pip install cvzone"
   ]
  },
  {
   "cell_type": "code",
   "execution_count": null,
   "id": "7617d838",
   "metadata": {},
   "outputs": [],
   "source": [
    "# pip install mediapipe"
   ]
  },
  {
   "cell_type": "code",
   "execution_count": null,
   "id": "c93d61cf",
   "metadata": {},
   "outputs": [],
   "source": [
    "import cv2\n",
    "from cvzone.HandTrackingModule import HandDetector\n",
    "import os\n",
    "\n",
    "model = HandDetector()\n",
    "cap=cv2.VideoCapture(0)\n",
    "while True:   \n",
    "    status,photo=cap.read()\n",
    "    hand=model.findHands(photo)\n",
    "    cv2.imshow(\"hii\",photo)\n",
    "    if cv2.waitKey(100) ==13:\n",
    "        break\n",
    "    lmlist=hand[0]\n",
    "#     print(lmlist)\n",
    "    while len(lmlist)!=0:\n",
    "        fingeruplist=model.fingersUp(lmlist[0])\n",
    "        print(fingeruplist)\n",
    "        if fingeruplist ==[1,0,0,0,0]:\n",
    "            os.system(\"mspaint\")\n",
    "            break\n",
    "        elif fingeruplist ==[0,1,0,0,0]:\n",
    "            os.system(\"control panel\")\n",
    "            break\n",
    "        elif fingeruplist ==[0,0,1,0,0]:\n",
    "            print(\"Go to hell!!\")\n",
    "            break\n",
    "        elif fingeruplist ==[0,0,0,1,0]:\n",
    "            os.system(\"cmd\")\n",
    "            break\n",
    "        elif fingeruplist ==[0,0,0,0,1]:\n",
    "            os.system(\"notepad\")\n",
    "            break\n",
    "        elif fingeruplist ==[1,1,1,1,1]:\n",
    "            print(\"Hii! HOw are you ? \")\n",
    "            break\n",
    "        else:\n",
    "            print(\"Unable to recognise!\")\n",
    "            break\n",
    "\n",
    "cap.release()\n",
    "cv2.destroyAllWindows()"
   ]
  },
  {
   "cell_type": "code",
   "execution_count": null,
   "id": "48c09ca5",
   "metadata": {},
   "outputs": [],
   "source": []
  }
 ],
 "metadata": {
  "kernelspec": {
   "display_name": "Python 3 (ipykernel)",
   "language": "python",
   "name": "python3"
  },
  "language_info": {
   "codemirror_mode": {
    "name": "ipython",
    "version": 3
   },
   "file_extension": ".py",
   "mimetype": "text/x-python",
   "name": "python",
   "nbconvert_exporter": "python",
   "pygments_lexer": "ipython3",
   "version": "3.11.4"
  }
 },
 "nbformat": 4,
 "nbformat_minor": 5
}
