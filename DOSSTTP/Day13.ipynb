{
 "cells": [
  {
   "cell_type": "code",
   "execution_count": 5,
   "id": "04e4789f",
   "metadata": {},
   "outputs": [
    {
     "name": "stdout",
     "output_type": "stream",
     "text": [
      "kmc01@kmclu.ac.in\n",
      "kmc02@kmclu.ac.in\n",
      "kmc03@kmclu.ac.in\n",
      "kmc04@kmclu.ac.in\n",
      "kmc05@kmclu.ac.in\n",
      "kmc06@kmclu.ac.in\n",
      "kmc07@kmclu.ac.in\n",
      "kmc08@kmclu.ac.in\n",
      "kmc09@kmclu.ac.in\n",
      "kmc10@kmclu.ac.in\n"
     ]
    }
   ],
   "source": [
    "for i in range(1,11):\n",
    "    if i < 10:\n",
    "        print(\"kmc0\"+str(i)+\"@kmclu.ac.in\")\n",
    "    else:\n",
    "        print(\"kmc\"+str(i)+\"@kmclu.ac.in\")\n"
   ]
  },
  {
   "cell_type": "code",
   "execution_count": 13,
   "id": "0f4f0fa6",
   "metadata": {},
   "outputs": [
    {
     "name": "stdout",
     "output_type": "stream",
     "text": [
      "KMC2409AA001\n",
      "KMC2410AA002\n",
      "KMC2411AA003\n",
      "KMC2412AA004\n",
      "KMC2413AA005\n",
      "KMC2414AA006\n",
      "KMC2415AA007\n",
      "KMC2416AA008\n",
      "KMC2417AA009\n",
      "KMC2418AA010\n"
     ]
    }
   ],
   "source": [
    "for i in  range(1,11):\n",
    "    j = i+8\n",
    "    if i < 10:\n",
    "        if j<10:\n",
    "            print(\"KMC240\"+str(j)+\"AA00\"+str(i))\n",
    "        else:\n",
    "            print(\"KMC24\"+str(j)+\"AA00\"+str(i))\n",
    "    else:\n",
    "        if j<10:\n",
    "            print(\"KMC240\"+str(j)+\"AA00\"+str(i))\n",
    "        else:\n",
    "            print(\"KMC24\"+str(j)+\"AA0\"+str(i))\n",
    "        "
   ]
  },
  {
   "cell_type": "code",
   "execution_count": 21,
   "id": "ce10abb8",
   "metadata": {},
   "outputs": [],
   "source": [
    "names = ['Satya', \"Arshad\",\"Shivam\",\"Nishant\"]"
   ]
  },
  {
   "cell_type": "code",
   "execution_count": 29,
   "id": "c36f5424",
   "metadata": {},
   "outputs": [],
   "source": [
    "def getName(names):\n",
    "    for i in names:\n",
    "        yield(i+\"@gmail.com\")"
   ]
  },
  {
   "cell_type": "code",
   "execution_count": 30,
   "id": "54650d83",
   "metadata": {},
   "outputs": [],
   "source": [
    "name = getName(names)"
   ]
  },
  {
   "cell_type": "code",
   "execution_count": 31,
   "id": "d1cea2d6",
   "metadata": {},
   "outputs": [
    {
     "data": {
      "text/plain": [
       "'Satya@gmail.com'"
      ]
     },
     "execution_count": 31,
     "metadata": {},
     "output_type": "execute_result"
    }
   ],
   "source": [
    "next(name)"
   ]
  }
 ],
 "metadata": {
  "kernelspec": {
   "display_name": "Python 3 (ipykernel)",
   "language": "python",
   "name": "python3"
  },
  "language_info": {
   "codemirror_mode": {
    "name": "ipython",
    "version": 3
   },
   "file_extension": ".py",
   "mimetype": "text/x-python",
   "name": "python",
   "nbconvert_exporter": "python",
   "pygments_lexer": "ipython3",
   "version": "3.11.4"
  }
 },
 "nbformat": 4,
 "nbformat_minor": 5
}
