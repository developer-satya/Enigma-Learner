{
 "cells": [
  {
   "cell_type": "code",
   "execution_count": null,
   "id": "6a3763da",
   "metadata": {},
   "outputs": [],
   "source": [
    "import cv2\n",
    "from cvzone.HandTrackingModule import HandDetector\n",
    "import boto3\n",
    "\n",
    "\n",
    "def list_of_running_instances():\n",
    "    ec2 = boto3.client('ec2')\n",
    "\n",
    "    response = ec2.describe_instances(\n",
    "        Filters=[\n",
    "            {\n",
    "                'Name': 'instance-state-name',\n",
    "                'Values': ['running']\n",
    "            }\n",
    "        ]\n",
    "    )\n",
    "\n",
    "\n",
    "\n",
    "    instances = []\n",
    "    for reservation in response['Reservations']:\n",
    "        for instance in reservation['Instances']:\n",
    "            instance_id = instance['InstanceId']\n",
    "            instance_type = instance['InstanceType']\n",
    "            public_ip = instance.get('PublicIpAddress', 'N/A')\n",
    "            private_ip = instance.get('PrivateIpAddress', 'N/A')\n",
    "            instances.append({'InstanceID': instance_id, 'InstanceType': instance_type, 'PublicIP': public_ip, 'PrivateIP': private_ip})\n",
    "\n",
    "    # Display instance information\n",
    "    print(\"Running Instances:\")\n",
    "    for instance in instances:\n",
    "        print(f\"Instance ID: {instance['InstanceID']}, Instance Type: {instance['InstanceType']}, Public IP: {instance['PublicIP']}, Private IP: {instance['PrivateIP']}\")\n",
    "\n",
    "\n",
    "\n",
    "\n",
    "\n",
    "cap = cv2.VideoCapture(0)\n",
    "model = HandDetector()\n",
    "while True:\n",
    "    if cv2.waitKey(50) == 13:\n",
    "        break\n",
    "    status, photo = cap.read()\n",
    "    cv2.imshow(\"Show Instance\", photo)\n",
    "    \n",
    "    hands = model.findHands(photo)[0]\n",
    "    \n",
    "\n",
    "    # If palm is detected, draw a circle on it\n",
    "#     if lmList:\n",
    "#         x, y = lmList[0][0], lmList[0][1]\n",
    "#         cv2.circle(hands, (x, y), 15, (0, 255, 0), cv2.FILLED)\n",
    "    \n",
    "    if hands:\n",
    "        fingers = model.fingersUp(hands[0])\n",
    "        if fingers == [1,1,1,1,1] and sum(fingers) ==5:\n",
    "            list_of_running_instances()\n",
    "\n",
    "\n",
    "    \n",
    "cap.release()\n",
    "cv2.destroyAllWindows()"
   ]
  },
  {
   "cell_type": "markdown",
   "id": "c4f8f8c2",
   "metadata": {},
   "source": [
    "# Task 3"
   ]
  },
  {
   "cell_type": "code",
   "execution_count": null,
   "id": "8e549f67",
   "metadata": {},
   "outputs": [],
   "source": [
    "import cv2\n",
    "from cvzone.HandTrackingModule import HandDetector\n",
    "\n",
    "cap = cv2.VideoCapture(0)\n",
    "model = HandDetector()\n",
    "while True:\n",
    "    if cv2.waitKey(50) == 13:\n",
    "        break\n",
    "    status, photo = cap.read()\n",
    "    \n",
    "    \n",
    "    hands = model.findHands(photo, draw=False)[0]\n",
    "        \n",
    "    if hands:\n",
    "        x, y = hands[0]['center'][0],hands[0]['center'][1]\n",
    "        photo = cv2.circle(photo, (x, y), 200, (255, 0, 0),4, cv2.FILLED)\n",
    "    cv2.imshow(\"Show Instance\", photo)\n",
    "\n",
    "\n",
    "    \n",
    "cap.release()\n",
    "cv2.destroyAllWindows()"
   ]
  },
  {
   "cell_type": "markdown",
   "id": "2f11cce4",
   "metadata": {},
   "source": [
    "# Task 5"
   ]
  },
  {
   "cell_type": "code",
   "execution_count": null,
   "id": "d8041505",
   "metadata": {
    "scrolled": true
   },
   "outputs": [],
   "source": [
    "import cv2\n",
    "from cvzone.HandTrackingModule import HandDetector\n",
    "import boto3\n",
    "\n",
    "def list_of_running_instances():\n",
    "    ec2 = boto3.client('ec2')\n",
    "    response = ec2.describe_instances(\n",
    "        Filters=[\n",
    "            {\n",
    "                'Name': 'instance-state-name',\n",
    "                'Values': ['running']\n",
    "            }\n",
    "        ]\n",
    "    )\n",
    "\n",
    "    instances = []\n",
    "    for reservation in response['Reservations']:\n",
    "        for instance in reservation['Instances']:\n",
    "            instance_id = instance['InstanceId']\n",
    "            instance_type = instance['InstanceType']\n",
    "            public_ip = instance.get('PublicIpAddress', 'N/A')\n",
    "            private_ip = instance.get('PrivateIpAddress', 'N/A')\n",
    "            instances.append({'InstanceID': instance_id, 'InstanceType': instance_type, 'PublicIP': public_ip, 'PrivateIP': private_ip})\n",
    "\n",
    "    # Display instance information\n",
    "    print(\"Running Instances:\")\n",
    "    listInstances = []\n",
    "    for instance in instances:\n",
    "#         print(f\"Instance ID: {instance['InstanceID']}, Instance Type: {instance['InstanceType']}\")\n",
    "        listInstances.append(instance['InstanceID'])\n",
    "    return listInstances\n",
    "\n",
    "def stop_running_instances(instance_list,count):\n",
    "    ec2 = boto3.client('ec2')\n",
    "    if count <= len(instance_list):\n",
    "        instance_id = instance_list[count-1]\n",
    "        response = ec2.stop_instances(InstanceIds=[instance_id])\n",
    "        print(response)\n",
    "    else:\n",
    "        print(\"Invalid Input\")\n",
    "        \n",
    "\n",
    "cap = cv2.VideoCapture(0)\n",
    "model = HandDetector()\n",
    "instance_list = list_of_running_instances()\n",
    "print(instance_list)\n",
    "while True:\n",
    "    if cv2.waitKey(10) == 13:\n",
    "        break\n",
    "    status, photo = cap.read()\n",
    "    cv2.imshow(\"Show Instance\", photo)\n",
    "    hands = model.findHands(photo)[0]\n",
    "    \n",
    "    if hands:\n",
    "        AllFingers = []\n",
    "        count = 0        \n",
    "        for hand in hands:\n",
    "            fingers = model.fingersUp(hand)\n",
    "            for finger in fingers:\n",
    "                AllFingers.append(finger)\n",
    "        if AllFingers:\n",
    "            count = sum(AllFingers)\n",
    "            stop_running_instances(instance_list,count)\n",
    "            \n",
    "cap.release()\n",
    "cv2.destroyAllWindows()\n"
   ]
  },
  {
   "cell_type": "code",
   "execution_count": null,
   "id": "32293085",
   "metadata": {},
   "outputs": [],
   "source": []
  },
  {
   "cell_type": "code",
   "execution_count": null,
   "id": "fc8e9946",
   "metadata": {},
   "outputs": [],
   "source": [
    "import cv2\n",
    "print(numpydata)\n",
    "cv2.imshow(\"window\",numpydata)\n",
    "\n",
    "cv2.waitKey(0)"
   ]
  },
  {
   "cell_type": "code",
   "execution_count": null,
   "id": "9aa3fdc4",
   "metadata": {},
   "outputs": [],
   "source": [
    "import os \n",
    "os.system(\"start run.py\")"
   ]
  },
  {
   "cell_type": "code",
   "execution_count": 2,
   "id": "8f752879",
   "metadata": {},
   "outputs": [
    {
     "data": {
      "text/plain": [
       "1"
      ]
     },
     "execution_count": 2,
     "metadata": {},
     "output_type": "execute_result"
    }
   ],
   "source": [
    "import os \n",
    "os.system(\"start run.exe\")"
   ]
  },
  {
   "cell_type": "code",
   "execution_count": 3,
   "id": "f4ef2d5d",
   "metadata": {},
   "outputs": [],
   "source": [
    "import tkinter as tk\n",
    "import datetime\n",
    "import winsound\n",
    "\n",
    "def set_alarm():\n",
    "    alarm_time = entry.get()\n",
    "    current_time = datetime.datetime.now().strftime(\"%H:%M:%S\")\n",
    "    \n",
    "    if alarm_time == current_time:\n",
    "        winsound.PlaySound(\"sound.wav\", winsound.SND_ASYNC)\n",
    "\n",
    "root = tk.Tk()\n",
    "root.title(\"Alarm Clock\")\n",
    "\n",
    "label = tk.Label(root, text=\"Enter alarm time (HH:MM:SS):\", font=(\"Arial\", 14))\n",
    "label.pack(pady=10)\n",
    "\n",
    "entry = tk.Entry(root, font=(\"Arial\", 14))\n",
    "entry.pack(pady=10)\n",
    "\n",
    "button = tk.Button(root, text=\"Set Alarm\", command=set_alarm, font=(\"Arial\", 14))\n",
    "button.pack(pady=10)\n",
    "\n",
    "root.mainloop()"
   ]
  },
  {
   "cell_type": "code",
   "execution_count": null,
   "id": "eb33f876",
   "metadata": {},
   "outputs": [],
   "source": []
  }
 ],
 "metadata": {
  "kernelspec": {
   "display_name": "Python 3 (ipykernel)",
   "language": "python",
   "name": "python3"
  },
  "language_info": {
   "codemirror_mode": {
    "name": "ipython",
    "version": 3
   },
   "file_extension": ".py",
   "mimetype": "text/x-python",
   "name": "python",
   "nbconvert_exporter": "python",
   "pygments_lexer": "ipython3",
   "version": "3.11.4"
  }
 },
 "nbformat": 4,
 "nbformat_minor": 5
}
