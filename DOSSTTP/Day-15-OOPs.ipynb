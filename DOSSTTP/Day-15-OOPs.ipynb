{
 "cells": [
  {
   "cell_type": "code",
   "execution_count": 104,
   "id": "141b4a4d",
   "metadata": {},
   "outputs": [],
   "source": [
    "class visitorInfo:\n",
    "    def __init__(self):\n",
    "        name = None\n",
    "        city = None\n",
    "        phone = None\n",
    "    def display(self):\n",
    "        print(\"Welcome to DossTTP:\")\n",
    "        print(self.name)\n",
    "        print(self.city)\n",
    "        print(self.phone)\n",
    "    "
   ]
  },
  {
   "cell_type": "code",
   "execution_count": 105,
   "id": "fd9769d1",
   "metadata": {},
   "outputs": [],
   "source": [
    "jack = visitorInfo()\n",
    "jack.name = \"Jack Ma\"\n",
    "jack.city = \"Beijing\"\n",
    "jack.phone = \"4093859134\""
   ]
  },
  {
   "cell_type": "code",
   "execution_count": 106,
   "id": "2ba46151",
   "metadata": {},
   "outputs": [
    {
     "data": {
      "text/plain": [
       "'Jack Ma'"
      ]
     },
     "execution_count": 106,
     "metadata": {},
     "output_type": "execute_result"
    }
   ],
   "source": [
    "jack.name"
   ]
  },
  {
   "cell_type": "code",
   "execution_count": 107,
   "id": "edab83dc",
   "metadata": {},
   "outputs": [
    {
     "data": {
      "text/plain": [
       "{'name': 'Jack Ma', 'city': 'Beijing', 'phone': '4093859134'}"
      ]
     },
     "execution_count": 107,
     "metadata": {},
     "output_type": "execute_result"
    }
   ],
   "source": [
    "jack.__dict__"
   ]
  },
  {
   "cell_type": "code",
   "execution_count": 108,
   "id": "36f472cc",
   "metadata": {},
   "outputs": [
    {
     "name": "stdout",
     "output_type": "stream",
     "text": [
      "Welcome to DossTTP:\n",
      "Jack Ma\n",
      "Beijing\n",
      "4093859134\n"
     ]
    }
   ],
   "source": [
    "jack.display()"
   ]
  },
  {
   "cell_type": "code",
   "execution_count": 117,
   "id": "e8095b57",
   "metadata": {},
   "outputs": [],
   "source": [
    "class visitorInfo:\n",
    "    name = None\n",
    "    city = None\n",
    "    phone = None\n",
    "    def display():\n",
    "        print(\"Welcome to DossTTP\")\n",
    "    def getphone(x):\n",
    "        print(x.phone)\n",
    "    def setphone(x,p):\n",
    "        x.phone=p"
   ]
  },
  {
   "cell_type": "code",
   "execution_count": 118,
   "id": "942f604b",
   "metadata": {},
   "outputs": [],
   "source": [
    "jack=visitorInfo()\n"
   ]
  },
  {
   "cell_type": "code",
   "execution_count": 119,
   "id": "8aec751e",
   "metadata": {},
   "outputs": [],
   "source": [
    "jack.setphone(122558896)"
   ]
  },
  {
   "cell_type": "code",
   "execution_count": 120,
   "id": "09b0dfe0",
   "metadata": {},
   "outputs": [
    {
     "name": "stdout",
     "output_type": "stream",
     "text": [
      "122558896\n"
     ]
    }
   ],
   "source": [
    "jack.getphone()"
   ]
  },
  {
   "cell_type": "markdown",
   "id": "9f662c51",
   "metadata": {},
   "source": [
    "## Machine Leaning"
   ]
  },
  {
   "cell_type": "code",
   "execution_count": 125,
   "id": "c9ed215a",
   "metadata": {},
   "outputs": [],
   "source": [
    "import pandas"
   ]
  },
  {
   "cell_type": "code",
   "execution_count": 126,
   "id": "9ec0e51a",
   "metadata": {},
   "outputs": [],
   "source": [
    "dataset=pandas.read_csv(\"data.txt\")"
   ]
  },
  {
   "cell_type": "code",
   "execution_count": 127,
   "id": "125122fe",
   "metadata": {},
   "outputs": [],
   "source": [
    "y=dataset['salary']"
   ]
  },
  {
   "cell_type": "code",
   "execution_count": 128,
   "id": "5b8f7a40",
   "metadata": {},
   "outputs": [],
   "source": [
    "X=dataset['experience']"
   ]
  },
  {
   "cell_type": "code",
   "execution_count": 129,
   "id": "b97f31ba",
   "metadata": {},
   "outputs": [
    {
     "data": {
      "text/plain": [
       "0     15000\n",
       "1     25000\n",
       "2     35000\n",
       "3     37000\n",
       "4    100000\n",
       "5    120000\n",
       "6    140000\n",
       "7    200000\n",
       "Name: salary, dtype: int64"
      ]
     },
     "execution_count": 129,
     "metadata": {},
     "output_type": "execute_result"
    }
   ],
   "source": [
    "y"
   ]
  },
  {
   "cell_type": "code",
   "execution_count": 130,
   "id": "dfb88a0b",
   "metadata": {},
   "outputs": [
    {
     "data": {
      "text/plain": [
       "0    1\n",
       "1    2\n",
       "2    3\n",
       "3    4\n",
       "4    5\n",
       "5    6\n",
       "6    7\n",
       "7    8\n",
       "Name: experience, dtype: int64"
      ]
     },
     "execution_count": 130,
     "metadata": {},
     "output_type": "execute_result"
    }
   ],
   "source": [
    "X"
   ]
  },
  {
   "cell_type": "code",
   "execution_count": 132,
   "id": "e6e1b53d",
   "metadata": {},
   "outputs": [
    {
     "data": {
      "text/plain": [
       "1"
      ]
     },
     "execution_count": 132,
     "metadata": {},
     "output_type": "execute_result"
    }
   ],
   "source": [
    "X.ndim"
   ]
  },
  {
   "cell_type": "code",
   "execution_count": 133,
   "id": "ab8c07b1",
   "metadata": {},
   "outputs": [],
   "source": [
    "x=X.values.reshape(-1,1)"
   ]
  },
  {
   "cell_type": "code",
   "execution_count": 134,
   "id": "0bd83109",
   "metadata": {},
   "outputs": [],
   "source": [
    "from sklearn.linear_model import LinearRegression"
   ]
  },
  {
   "cell_type": "code",
   "execution_count": 135,
   "id": "c2232ced",
   "metadata": {},
   "outputs": [],
   "source": [
    "model=LinearRegression()"
   ]
  },
  {
   "cell_type": "code",
   "execution_count": 138,
   "id": "dc6bdd27",
   "metadata": {},
   "outputs": [
    {
     "data": {
      "text/html": [
       "<style>#sk-container-id-1 {color: black;}#sk-container-id-1 pre{padding: 0;}#sk-container-id-1 div.sk-toggleable {background-color: white;}#sk-container-id-1 label.sk-toggleable__label {cursor: pointer;display: block;width: 100%;margin-bottom: 0;padding: 0.3em;box-sizing: border-box;text-align: center;}#sk-container-id-1 label.sk-toggleable__label-arrow:before {content: \"▸\";float: left;margin-right: 0.25em;color: #696969;}#sk-container-id-1 label.sk-toggleable__label-arrow:hover:before {color: black;}#sk-container-id-1 div.sk-estimator:hover label.sk-toggleable__label-arrow:before {color: black;}#sk-container-id-1 div.sk-toggleable__content {max-height: 0;max-width: 0;overflow: hidden;text-align: left;background-color: #f0f8ff;}#sk-container-id-1 div.sk-toggleable__content pre {margin: 0.2em;color: black;border-radius: 0.25em;background-color: #f0f8ff;}#sk-container-id-1 input.sk-toggleable__control:checked~div.sk-toggleable__content {max-height: 200px;max-width: 100%;overflow: auto;}#sk-container-id-1 input.sk-toggleable__control:checked~label.sk-toggleable__label-arrow:before {content: \"▾\";}#sk-container-id-1 div.sk-estimator input.sk-toggleable__control:checked~label.sk-toggleable__label {background-color: #d4ebff;}#sk-container-id-1 div.sk-label input.sk-toggleable__control:checked~label.sk-toggleable__label {background-color: #d4ebff;}#sk-container-id-1 input.sk-hidden--visually {border: 0;clip: rect(1px 1px 1px 1px);clip: rect(1px, 1px, 1px, 1px);height: 1px;margin: -1px;overflow: hidden;padding: 0;position: absolute;width: 1px;}#sk-container-id-1 div.sk-estimator {font-family: monospace;background-color: #f0f8ff;border: 1px dotted black;border-radius: 0.25em;box-sizing: border-box;margin-bottom: 0.5em;}#sk-container-id-1 div.sk-estimator:hover {background-color: #d4ebff;}#sk-container-id-1 div.sk-parallel-item::after {content: \"\";width: 100%;border-bottom: 1px solid gray;flex-grow: 1;}#sk-container-id-1 div.sk-label:hover label.sk-toggleable__label {background-color: #d4ebff;}#sk-container-id-1 div.sk-serial::before {content: \"\";position: absolute;border-left: 1px solid gray;box-sizing: border-box;top: 0;bottom: 0;left: 50%;z-index: 0;}#sk-container-id-1 div.sk-serial {display: flex;flex-direction: column;align-items: center;background-color: white;padding-right: 0.2em;padding-left: 0.2em;position: relative;}#sk-container-id-1 div.sk-item {position: relative;z-index: 1;}#sk-container-id-1 div.sk-parallel {display: flex;align-items: stretch;justify-content: center;background-color: white;position: relative;}#sk-container-id-1 div.sk-item::before, #sk-container-id-1 div.sk-parallel-item::before {content: \"\";position: absolute;border-left: 1px solid gray;box-sizing: border-box;top: 0;bottom: 0;left: 50%;z-index: -1;}#sk-container-id-1 div.sk-parallel-item {display: flex;flex-direction: column;z-index: 1;position: relative;background-color: white;}#sk-container-id-1 div.sk-parallel-item:first-child::after {align-self: flex-end;width: 50%;}#sk-container-id-1 div.sk-parallel-item:last-child::after {align-self: flex-start;width: 50%;}#sk-container-id-1 div.sk-parallel-item:only-child::after {width: 0;}#sk-container-id-1 div.sk-dashed-wrapped {border: 1px dashed gray;margin: 0 0.4em 0.5em 0.4em;box-sizing: border-box;padding-bottom: 0.4em;background-color: white;}#sk-container-id-1 div.sk-label label {font-family: monospace;font-weight: bold;display: inline-block;line-height: 1.2em;}#sk-container-id-1 div.sk-label-container {text-align: center;}#sk-container-id-1 div.sk-container {/* jupyter's `normalize.less` sets `[hidden] { display: none; }` but bootstrap.min.css set `[hidden] { display: none !important; }` so we also need the `!important` here to be able to override the default hidden behavior on the sphinx rendered scikit-learn.org. See: https://github.com/scikit-learn/scikit-learn/issues/21755 */display: inline-block !important;position: relative;}#sk-container-id-1 div.sk-text-repr-fallback {display: none;}</style><div id=\"sk-container-id-1\" class=\"sk-top-container\"><div class=\"sk-text-repr-fallback\"><pre>LinearRegression()</pre><b>In a Jupyter environment, please rerun this cell to show the HTML representation or trust the notebook. <br />On GitHub, the HTML representation is unable to render, please try loading this page with nbviewer.org.</b></div><div class=\"sk-container\" hidden><div class=\"sk-item\"><div class=\"sk-estimator sk-toggleable\"><input class=\"sk-toggleable__control sk-hidden--visually\" id=\"sk-estimator-id-1\" type=\"checkbox\" checked><label for=\"sk-estimator-id-1\" class=\"sk-toggleable__label sk-toggleable__label-arrow\">LinearRegression</label><div class=\"sk-toggleable__content\"><pre>LinearRegression()</pre></div></div></div></div></div>"
      ],
      "text/plain": [
       "LinearRegression()"
      ]
     },
     "execution_count": 138,
     "metadata": {},
     "output_type": "execute_result"
    }
   ],
   "source": [
    "model.fit(x,y)"
   ]
  },
  {
   "cell_type": "code",
   "execution_count": 139,
   "id": "7dedb169",
   "metadata": {
    "scrolled": true
   },
   "outputs": [
    {
     "data": {
      "text/plain": [
       "array([26047.61904762])"
      ]
     },
     "execution_count": 139,
     "metadata": {},
     "output_type": "execute_result"
    }
   ],
   "source": [
    "model.coef_"
   ]
  },
  {
   "cell_type": "code",
   "execution_count": 145,
   "id": "a97c9e8f",
   "metadata": {
    "scrolled": true
   },
   "outputs": [
    {
     "data": {
      "text/plain": [
       "78141"
      ]
     },
     "execution_count": 145,
     "metadata": {},
     "output_type": "execute_result"
    }
   ],
   "source": [
    "26047 * 3"
   ]
  },
  {
   "cell_type": "code",
   "execution_count": 140,
   "id": "5e5a95f2",
   "metadata": {},
   "outputs": [],
   "source": [
    "c=model.coef_"
   ]
  },
  {
   "cell_type": "code",
   "execution_count": 141,
   "id": "c67d104f",
   "metadata": {},
   "outputs": [
    {
     "data": {
      "text/plain": [
       "array([26047.61904762])"
      ]
     },
     "execution_count": 141,
     "metadata": {},
     "output_type": "execute_result"
    }
   ],
   "source": [
    "c"
   ]
  },
  {
   "cell_type": "code",
   "execution_count": 142,
   "id": "631ee688",
   "metadata": {},
   "outputs": [
    {
     "data": {
      "text/plain": [
       "array([44928.57142857])"
      ]
     },
     "execution_count": 142,
     "metadata": {},
     "output_type": "execute_result"
    }
   ],
   "source": [
    "model.predict([[3]])"
   ]
  },
  {
   "cell_type": "code",
   "execution_count": 143,
   "id": "06603e8e",
   "metadata": {},
   "outputs": [],
   "source": [
    "b =model.intercept_"
   ]
  },
  {
   "cell_type": "code",
   "execution_count": 144,
   "id": "978a482e",
   "metadata": {},
   "outputs": [
    {
     "data": {
      "text/plain": [
       "-33214.28571428571"
      ]
     },
     "execution_count": 144,
     "metadata": {},
     "output_type": "execute_result"
    }
   ],
   "source": [
    "b"
   ]
  },
  {
   "cell_type": "code",
   "execution_count": 146,
   "id": "49bb08b2",
   "metadata": {},
   "outputs": [
    {
     "data": {
      "text/plain": [
       "44927"
      ]
     },
     "execution_count": 146,
     "metadata": {},
     "output_type": "execute_result"
    }
   ],
   "source": [
    "78141-33214"
   ]
  },
  {
   "cell_type": "code",
   "execution_count": 149,
   "id": "bbd51498",
   "metadata": {},
   "outputs": [],
   "source": [
    "import matplotlib.pyplot as plt"
   ]
  },
  {
   "cell_type": "code",
   "execution_count": 153,
   "id": "522e5c55",
   "metadata": {},
   "outputs": [
    {
     "data": {
      "text/plain": [
       "[<matplotlib.lines.Line2D at 0x2ac71dadb50>]"
      ]
     },
     "execution_count": 153,
     "metadata": {},
     "output_type": "execute_result"
    },
    {
     "data": {
      "image/png": "[encoded data removed]",
      "text/plain": [
       "<Figure size 640x480 with 1 Axes>"
      ]
     },
     "metadata": {},
     "output_type": "display_data"
    }
   ],
   "source": [
    "plt.scatter(x,y)\n",
    "plt.plot(x,y)"
   ]
  },
  {
   "cell_type": "code",
   "execution_count": null,
   "id": "dd3a5236",
   "metadata": {},
   "outputs": [],
   "source": []
  }
 ],
 "metadata": {
  "kernelspec": {
   "display_name": "Python 3 (ipykernel)",
   "language": "python",
   "name": "python3"
  },
  "language_info": {
   "codemirror_mode": {
    "name": "ipython",
    "version": 3
   },
   "file_extension": ".py",
   "mimetype": "text/x-python",
   "name": "python",
   "nbconvert_exporter": "python",
   "pygments_lexer": "ipython3",
   "version": "3.11.4"
  }
 },
 "nbformat": 4,
 "nbformat_minor": 5
}
