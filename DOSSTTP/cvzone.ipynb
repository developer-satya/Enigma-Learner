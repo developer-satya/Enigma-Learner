{
 "cells": [
  {
   "cell_type": "code",
   "execution_count": null,
   "id": "28c67067",
   "metadata": {},
   "outputs": [],
   "source": [
    "import cv2"
   ]
  },
  {
   "cell_type": "code",
   "execution_count": null,
   "id": "3b26040a",
   "metadata": {},
   "outputs": [],
   "source": [
    "cap = cv2.VideoCapture(0)\n",
    "while True:\n",
    "    status, photo = cap.read()\n",
    "    img = cv2.cvtColor(photo,cv2.COLOR_BGRA2RGB)\n",
    "    \n",
    "#     cv2.resizeWindow(\"DossTTP\", 800, 600)\n",
    "    cv2.imshow(\"DossTTP\", img)\n",
    "    \n",
    "    status, photo2 = cap.read()\n",
    "#     cv2.resizeWindow(\"DossTTP2\", 200, 150)\n",
    "    cv2.imshow(\"DossTTP2\", photo2)\n",
    "    \n",
    "    if cv2.waitKey(10) == 13:\n",
    "        break\n",
    "\n",
    "cv2.destroyAllWindows()\n",
    "cap.release()"
   ]
  },
  {
   "cell_type": "code",
   "execution_count": null,
   "id": "26fc9a69",
   "metadata": {},
   "outputs": [],
   "source": [
    "import cv2\n",
    "cv2.namedWindow(\"output\", cv2.WINDOW_NORMAL)    # Create window with freedom of dimensions\n",
    "im = cv2.imread(\"earth.jpg\")                    # Read image\n",
    "imS = cv2.resize(im, (960, 540))                # Resize image\n",
    "cv2.imshow(\"output\", imS)                       # Show image\n",
    "cv2.waitKey(0)"
   ]
  },
  {
   "cell_type": "code",
   "execution_count": 4,
   "id": "c7242475",
   "metadata": {},
   "outputs": [
    {
     "data": {
      "text/plain": [
       "0"
      ]
     },
     "execution_count": 4,
     "metadata": {},
     "output_type": "execute_result"
    }
   ],
   "source": [
    "import os\n",
    "os.system(\"cmd\")"
   ]
  },
  {
   "cell_type": "code",
   "execution_count": null,
   "id": "7fd2b319",
   "metadata": {},
   "outputs": [],
   "source": []
  },
  {
   "cell_type": "code",
   "execution_count": null,
   "id": "e912b3b4",
   "metadata": {},
   "outputs": [],
   "source": []
  }
 ],
 "metadata": {
  "kernelspec": {
   "display_name": "Python 3 (ipykernel)",
   "language": "python",
   "name": "python3"
  },
  "language_info": {
   "codemirror_mode": {
    "name": "ipython",
    "version": 3
   },
   "file_extension": ".py",
   "mimetype": "text/x-python",
   "name": "python",
   "nbconvert_exporter": "python",
   "pygments_lexer": "ipython3",
   "version": "3.11.4"
  }
 },
 "nbformat": 4,
 "nbformat_minor": 5
}
