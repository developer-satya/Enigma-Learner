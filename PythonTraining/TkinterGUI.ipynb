{
 "cells": [
  {
   "cell_type": "code",
   "execution_count": 9,
   "id": "2bfa8900",
   "metadata": {},
   "outputs": [],
   "source": [
    "from tkinter import *\n",
    "from tkinter import ttk"
   ]
  },
  {
   "cell_type": "code",
   "execution_count": 27,
   "id": "ac418548",
   "metadata": {},
   "outputs": [],
   "source": [
    "root = Tk(\"Welcome to my Screen\")\n",
    "\n",
    "def addLabel():\n",
    "    myLabel1 = Label(root, text=\"Hello World\")\n",
    "    myLabel2 = Label(root, text=\"Welcome to Doss TTP\")\n",
    "    myLabel3 = Label(root, text=\"This is warm welcome\")\n",
    "    myLabel4 = Label(root, text=\"How are you doing?\")\n",
    "    \n",
    "    myLabel1.grid(row=0, column=1)\n",
    "    myLabel2.grid(row=1, column=1)\n",
    "    myLabel3.grid(row=2, column=1)\n",
    "    myLabel4.grid(row=3, column=1)\n",
    "\n",
    "\n",
    "myButton1 = Button(root, text=\"Write\", bg=\"blue\", fg=\"black\", command=addLabel)\n",
    "myButton2 = Button(root, text=\"Quit\", bg=\"blue\", fg=\"black\", command=root.destroy)\n",
    "\n",
    "myButton1.grid(row=4, column=1)\n",
    "myButton2.grid(row=5, column=1)\n",
    "\n",
    "\n",
    "\n",
    "root.mainloop()"
   ]
  },
  {
   "cell_type": "code",
   "execution_count": 21,
   "id": "36e156c5",
   "metadata": {},
   "outputs": [],
   "source": [
    "root = Tk(\"Welcome to my Screen\")\n",
    "frame = ttk.Frame(root,padding=10)\n",
    "\n",
    "frame.grid()\n",
    "\n",
    "myLabel1 = ttk.Label(frame, text=\"Hello World\")\n",
    "myLabel2 = ttk.Label(frame, text=\"Welcome to Doss TTP\")\n",
    "myLabel3 = ttk.Label(frame, text=\"This is warm welcome\")\n",
    "myLabel4 = ttk.Label(frame, text=\"How are you doing?\")\n",
    "\n",
    "\n",
    "myLabel1.grid(row=0, column=1)\n",
    "myLabel2.grid(row=1, column=2)\n",
    "myLabel3.grid(row=2, column=3)\n",
    "myLabel4.grid(row=3, column=4)\n",
    "\n",
    "root.mainloop()"
   ]
  },
  {
   "cell_type": "markdown",
   "id": "087c0ccb",
   "metadata": {},
   "source": [
    "# SignUp Form"
   ]
  },
  {
   "cell_type": "code",
   "execution_count": 53,
   "id": "0b35ce71",
   "metadata": {},
   "outputs": [],
   "source": [
    "import tkinter as tk\n",
    "root = Tk()\n",
    "\n",
    "root.title(\"Sign Up Form\")\n",
    "root.geometry(\"600x400\")\n",
    "\n",
    "\n",
    "name_var = tk.StringVar()\n",
    "email_var = tk.StringVar()\n",
    "pwd_var = tk.StringVar()\n",
    "\n",
    "data = {\n",
    "    \"name\":[],\n",
    "    \"email\":[],\n",
    "    \"pwd\":[]\n",
    "    \n",
    "}\n",
    "\n",
    "def saveData():\n",
    "    data[\"name\"].append(name_var.get())\n",
    "    data[\"email\"].append(email_var.get())\n",
    "    data[\"pwd\"].append(pwd_var.get())\n",
    "    print(data)\n",
    "    name.delete(0,END)\n",
    "    email.delete(0,END)\n",
    "    pwd.delete(0,END)\n",
    "    \n",
    "\n",
    "frame = Frame(root, width=400, height=300)\n",
    "frame.place(relx=0.5, rely=0.5, anchor=CENTER)\n",
    "    \n",
    "label1 = Label(frame, text=\"Username\", font=('calibre',10,'normal'))\n",
    "label2 = Label(frame, text=\"Email\", font=('calibre',10,'normal'))\n",
    "label3 = Label(frame, text=\"Password\", font=('calibre',10,'normal'))\n",
    "\n",
    "\n",
    "name = Entry(frame, textvariable=name_var, font=('calibre',10,'normal'))\n",
    "email = Entry(frame, textvariable=email_var, font=('calibre',10,'normal'))\n",
    "pwd = Entry(frame, textvariable=pwd_var, show=\"*\", font=('calibre',10,'normal'))\n",
    "\n",
    "\n",
    "\n",
    "signUp = Button(frame, text=\"Submit\", padx=\"10\", pady=\"5\", command=saveData)\n",
    "\n",
    "label1.grid(row=0,column=2)\n",
    "label2.grid(row=1,column=2)\n",
    "label3.grid(row=2,column=2)\n",
    "\n",
    "name.grid(row=0,column=3)\n",
    "email.grid(row=1,column=3)\n",
    "pwd.grid(row=2,column=3)\n",
    "\n",
    "signUp.grid(row=4,column=3)\n",
    "\n",
    "\n",
    "root.mainloop()"
   ]
  },
  {
   "cell_type": "code",
   "execution_count": 51,
   "id": "2c93c4bd",
   "metadata": {},
   "outputs": [
    {
     "data": {
      "text/plain": [
       "{'name': [''], 'email': [''], 'pwd': ['']}"
      ]
     },
     "execution_count": 51,
     "metadata": {},
     "output_type": "execute_result"
    }
   ],
   "source": [
    "data"
   ]
  },
  {
   "cell_type": "code",
   "execution_count": 50,
   "id": "f608c98a",
   "metadata": {},
   "outputs": [],
   "source": [
    "import tkinter as tk\n",
    "\n",
    "root = tk.Tk()\n",
    "\n",
    "name_var = tk.StringVar()\n",
    "\n",
    "root.title(\"Display Entry List\")\n",
    "root.geometry(\"600x400\")\n",
    "\n",
    "stu_data = []\n",
    "\n",
    "def saveName():\n",
    "    stu_data.append(name_var.get())\n",
    "    e.delete(0,END)\n",
    "\n",
    "def showName(data):\n",
    "    table = Listbox(root)\n",
    "    table.place(relx=0.5, rely=0.25, anchor=N)\n",
    "    \n",
    "\n",
    "    \n",
    "    table.config(yscrollcommand = scrollbar.set)\n",
    "    scrollbar.config(command = table.yview) \n",
    "    \n",
    "    for i in range(len(data)):\n",
    "        table.insert(END, f\"{i+1} - {data[i]}\")\n",
    "        \n",
    "        \n",
    "scrollbar = Scrollbar(root) \n",
    "scrollbar.pack(side = RIGHT, fill = BOTH)\n",
    "\n",
    "frame = Frame(root, height=400, width=300)\n",
    "frame.place(relx=0.5, rely=0.1, anchor=CENTER)\n",
    "\n",
    "label = Label(frame, text=\"Name \", font=('calibre',10,'normal'))\n",
    "e = Entry(frame, textvariable=name_var, width=20, font=('calibre',10,'normal'))\n",
    "save = Button(frame, text=\"save\", command=saveName)\n",
    "show = Button(frame, text=\"show\", command=lambda: s\n",
    "              howName(stu_data))\n",
    "\n",
    "# Arrange the widgets\n",
    "label.grid(row=0, column=0)\n",
    "e.grid(row=0, column=1)\n",
    "save.grid(row=1, column=1)\n",
    "show.grid(row=2, column=1)\n",
    "\n",
    "root.mainloop()"
   ]
  },
  {
   "cell_type": "code",
   "execution_count": null,
   "id": "7b989219",
   "metadata": {},
   "outputs": [],
   "source": []
  }
 ],
 "metadata": {
  "kernelspec": {
   "display_name": "Python 3 (ipykernel)",
   "language": "python",
   "name": "python3"
  },
  "language_info": {
   "codemirror_mode": {
    "name": "ipython",
    "version": 3
   },
   "file_extension": ".py",
   "mimetype": "text/x-python",
   "name": "python",
   "nbconvert_exporter": "python",
   "pygments_lexer": "ipython3",
   "version": "3.11.4"
  }
 },
 "nbformat": 4,
 "nbformat_minor": 5
}
