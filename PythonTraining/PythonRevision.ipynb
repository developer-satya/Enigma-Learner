{
 "cells": [
  {
   "cell_type": "markdown",
   "id": "a2c49880",
   "metadata": {},
   "source": [
    "# Python"
   ]
  },
  {
   "cell_type": "code",
   "execution_count": null,
   "id": "24d2abde",
   "metadata": {},
   "outputs": [],
   "source": [
    "print(\"Hello World!\")"
   ]
  },
  {
   "cell_type": "markdown",
   "id": "0f00f55a",
   "metadata": {},
   "source": [
    "## Variable in python"
   ]
  },
  {
   "cell_type": "code",
   "execution_count": null,
   "id": "6ae0f0ed",
   "metadata": {},
   "outputs": [],
   "source": [
    "a = 12\n",
    "print(a)"
   ]
  },
  {
   "cell_type": "code",
   "execution_count": null,
   "id": "f216cdaf",
   "metadata": {},
   "outputs": [],
   "source": [
    "b = \"Hello How are you?\""
   ]
  },
  {
   "cell_type": "code",
   "execution_count": null,
   "id": "e017d31b",
   "metadata": {},
   "outputs": [],
   "source": [
    "print(b)"
   ]
  },
  {
   "cell_type": "markdown",
   "id": "b8af9e0a",
   "metadata": {},
   "source": [
    "## Data Types in python"
   ]
  },
  {
   "cell_type": "code",
   "execution_count": null,
   "id": "8cf9c732",
   "metadata": {},
   "outputs": [],
   "source": [
    "# interger\n",
    "a = 23\n",
    "\n",
    "# float\n",
    "b = 23.5\n",
    "\n",
    "# String : sequence of character\n",
    "str1 = \"Doss TTP 12\"\n",
    "\n",
    "# Boolean : true or false\n",
    "bool1 = True"
   ]
  },
  {
   "cell_type": "code",
   "execution_count": null,
   "id": "6614f844",
   "metadata": {
    "scrolled": true
   },
   "outputs": [],
   "source": [
    "type(a)"
   ]
  },
  {
   "cell_type": "markdown",
   "id": "0fa9acd7",
   "metadata": {},
   "source": [
    "## Operators in Python"
   ]
  },
  {
   "cell_type": "code",
   "execution_count": null,
   "id": "f141cbfb",
   "metadata": {},
   "outputs": [],
   "source": [
    "a= 5\n",
    "b = 6\n",
    "c = 2\n",
    "\n",
    "# Arithematic Operators\n",
    "add = a+b  # Addition\n",
    "diff = b - a  # Substraction\n",
    "prod = a * b  # Product\n",
    "div = b / a # Division\n",
    "exp = c ** a  # Exponential\n",
    "fdiv = b // a  # floor division\n",
    "\n",
    "# Comparison Operator\n",
    "gt = a > b  # greater than\n",
    "lt = a < b\n",
    "eq = a == b  # eqaul to\n",
    "neq = a != b  # not equal to\n",
    "\n",
    "# Logical Operator : and, or, not\n",
    "cp = b > a and b > c\n",
    "op = a > b or b > c\n",
    "nop = not b>c"
   ]
  },
  {
   "cell_type": "code",
   "execution_count": null,
   "id": "81c46f38",
   "metadata": {},
   "outputs": [],
   "source": [
    "print(nop)"
   ]
  },
  {
   "cell_type": "markdown",
   "id": "6e05e23b",
   "metadata": {},
   "source": [
    "## Collections in python\n",
    "- List\n",
    "- Tuple\n",
    "- Dictionary\n",
    "- Set"
   ]
  },
  {
   "cell_type": "code",
   "execution_count": null,
   "id": "0fbedcd5",
   "metadata": {},
   "outputs": [],
   "source": [
    "# List \n",
    "\n",
    "list1 = [12,23.5,\"DossTTP\",True]\n"
   ]
  },
  {
   "cell_type": "code",
   "execution_count": null,
   "id": "2a7b521d",
   "metadata": {},
   "outputs": [],
   "source": [
    "list1[2] = \"Hello Doss\""
   ]
  },
  {
   "cell_type": "code",
   "execution_count": null,
   "id": "03bfb556",
   "metadata": {},
   "outputs": [],
   "source": [
    "print(list1[2])"
   ]
  },
  {
   "cell_type": "code",
   "execution_count": null,
   "id": "66a190ca",
   "metadata": {},
   "outputs": [],
   "source": [
    "list1"
   ]
  },
  {
   "cell_type": "code",
   "execution_count": null,
   "id": "4bbc0d0d",
   "metadata": {},
   "outputs": [],
   "source": [
    "# Tuple"
   ]
  },
  {
   "cell_type": "code",
   "execution_count": null,
   "id": "2ed07398",
   "metadata": {},
   "outputs": [],
   "source": [
    "tup = (12, \"Doss\", True)"
   ]
  },
  {
   "cell_type": "code",
   "execution_count": null,
   "id": "aa212134",
   "metadata": {},
   "outputs": [],
   "source": [
    "print(tup[1])"
   ]
  },
  {
   "cell_type": "code",
   "execution_count": null,
   "id": "922dfcf1",
   "metadata": {},
   "outputs": [],
   "source": [
    "# Dictionary\n",
    "\n",
    "dict1 = {\n",
    "    \"name\" : \"Doss TTP\",\n",
    "    \"addr\" : \"Lucknow\",\n",
    "    \"mob\" : 276514501746\n",
    "}"
   ]
  },
  {
   "cell_type": "code",
   "execution_count": null,
   "id": "e8519ef7",
   "metadata": {},
   "outputs": [],
   "source": [
    "print(dict1)"
   ]
  },
  {
   "cell_type": "code",
   "execution_count": null,
   "id": "0e927887",
   "metadata": {
    "scrolled": false
   },
   "outputs": [],
   "source": [
    "print(dict1[\"name\"])"
   ]
  },
  {
   "cell_type": "code",
   "execution_count": null,
   "id": "d8a051c9",
   "metadata": {},
   "outputs": [],
   "source": [
    "stu_data = {\n",
    "    \"name\" : [\"Shivam\", \"Nishant\", \"Arshad\"],\n",
    "    \"addr\" : [\"Ittawa\", \"rae Barelii\", \"Kanpur\"],\n",
    "    \"mob\" : [731478945605,92064510893,96459816451]\n",
    "}"
   ]
  },
  {
   "cell_type": "code",
   "execution_count": null,
   "id": "552d44b1",
   "metadata": {},
   "outputs": [],
   "source": [
    "mydict2 = {\n",
    "    \"name\":[\"Saniya\",\"Sohail\",\"Saba\",\"Doss TTP\"],\n",
    "    \"addr\": [\"Lucknow\", \"Delhi\", \"Balia\", \"Lucknow\"],\n",
    "    \"mob\": [73540147,98346510,9064502,90364150]\n",
    "}"
   ]
  },
  {
   "cell_type": "code",
   "execution_count": null,
   "id": "eaa8c8fc",
   "metadata": {},
   "outputs": [],
   "source": [
    "mydict2[\"name\"][1]"
   ]
  },
  {
   "cell_type": "code",
   "execution_count": null,
   "id": "f93dbd3c",
   "metadata": {},
   "outputs": [],
   "source": [
    "print(stu_data[\"name\"][1])"
   ]
  },
  {
   "cell_type": "code",
   "execution_count": null,
   "id": "7fbd1141",
   "metadata": {},
   "outputs": [],
   "source": []
  },
  {
   "cell_type": "code",
   "execution_count": null,
   "id": "f3a2fd7e",
   "metadata": {},
   "outputs": [],
   "source": [
    "pip install pyautogui"
   ]
  },
  {
   "cell_type": "code",
   "execution_count": null,
   "id": "6a5b3b02",
   "metadata": {},
   "outputs": [],
   "source": [
    "import pyautogui\n",
    "import time\n",
    "\n",
    "time.sleep(5)\n",
    "for i in range(100):\n",
    "    pyautogui.typewrite(\"Hello Rajan👋😅\")\n",
    "    pyautogui.press(\"enter\")"
   ]
  },
  {
   "cell_type": "markdown",
   "id": "80344be4",
   "metadata": {},
   "source": [
    "## condiional Statement\n",
    "- if else\n",
    "- else if ladder\n",
    "- nested if else"
   ]
  },
  {
   "cell_type": "code",
   "execution_count": null,
   "id": "ed796bd5",
   "metadata": {},
   "outputs": [],
   "source": [
    "var = input()\n",
    "\n",
    "print(type(var))"
   ]
  },
  {
   "cell_type": "code",
   "execution_count": null,
   "id": "bc3a6e69",
   "metadata": {},
   "outputs": [],
   "source": [
    "# if else\n",
    "\n",
    "age = 45\n",
    "\n",
    "if age <= 18:\n",
    "    print(\"User can't Vote!\")\n",
    "else:\n",
    "    print(\"User can vote!\")"
   ]
  },
  {
   "cell_type": "code",
   "execution_count": null,
   "id": "555fc0e6",
   "metadata": {},
   "outputs": [],
   "source": [
    "# else if ladder\n",
    "\n",
    "# mark = input()\n",
    "\n",
    "# marks = int(mark)\n",
    "marks = 67\n",
    "\n",
    "if marks >= 60:\n",
    "    print(\"1st division\")\n",
    "elif marks >= 50:\n",
    "    print(\"2nd Division\")\n",
    "elif marks >=40:\n",
    "    print(\"3rd Division\")\n",
    "else:\n",
    "    print(\"Failed\")\n",
    " "
   ]
  },
  {
   "cell_type": "code",
   "execution_count": null,
   "id": "f4cd413d",
   "metadata": {},
   "outputs": [],
   "source": [
    "# nested if\n",
    "shirt = True\n",
    "color = \"Black\"\n",
    "fabric = \"Polyster\"\n",
    "\n",
    "if shirt == True:\n",
    "    if color == \"Black\":\n",
    "        if fabric == \"cotton\":\n",
    "            print(\"Bought it\")\n",
    "        elif fabric == \"Polyster\":\n",
    "            print(\"Bought it\")\n",
    "        else:\n",
    "            print(\"Don't bought it\")\n",
    "    else:\n",
    "        print(\"Don't Bought it\")\n",
    "else:\n",
    "    print(\"Don't Bought it\")"
   ]
  },
  {
   "cell_type": "code",
   "execution_count": null,
   "id": "2625340b",
   "metadata": {},
   "outputs": [],
   "source": [
    "mark = input()\n",
    "\n",
    "marks = int(mark)\n",
    "\n",
    "if marks >= 50:\n",
    "    if marks >= 60:\n",
    "        print(\"1st Division\")\n",
    "    else:\n",
    "        print(\"2nd Division\")\n",
    "                 \n",
    "else:\n",
    "    print(\"Failed\")"
   ]
  },
  {
   "cell_type": "markdown",
   "id": "c0fca099",
   "metadata": {},
   "source": [
    "### Slicing List and String"
   ]
  },
  {
   "cell_type": "code",
   "execution_count": null,
   "id": "eadb3312",
   "metadata": {},
   "outputs": [],
   "source": [
    "myList = [12,34,5,6,56,67,78,89]"
   ]
  },
  {
   "cell_type": "code",
   "execution_count": null,
   "id": "aef66649",
   "metadata": {},
   "outputs": [],
   "source": [
    "myList[2:5]"
   ]
  },
  {
   "cell_type": "code",
   "execution_count": null,
   "id": "9c3220ee",
   "metadata": {},
   "outputs": [],
   "source": [
    "myString = \"Hello World!\""
   ]
  },
  {
   "cell_type": "code",
   "execution_count": null,
   "id": "eed8403b",
   "metadata": {},
   "outputs": [],
   "source": [
    "myString[0:5]"
   ]
  },
  {
   "cell_type": "code",
   "execution_count": null,
   "id": "ee735aa3",
   "metadata": {},
   "outputs": [],
   "source": [
    "newString = \"Hello Creators and Innovators!\""
   ]
  },
  {
   "cell_type": "code",
   "execution_count": null,
   "id": "4c3af8a5",
   "metadata": {},
   "outputs": [],
   "source": [
    "newString[]"
   ]
  },
  {
   "cell_type": "markdown",
   "id": "163151a7",
   "metadata": {},
   "source": [
    "## Iteration in Python\n",
    "\n",
    "- while loop\n",
    "- for loop"
   ]
  },
  {
   "cell_type": "code",
   "execution_count": null,
   "id": "fd89051e",
   "metadata": {},
   "outputs": [],
   "source": [
    "# while\n",
    "\n",
    "num = 0\n",
    "\n",
    "while num<10:\n",
    "    print(\"Hello World!👋\")\n",
    "    num = num + 1"
   ]
  },
  {
   "cell_type": "code",
   "execution_count": null,
   "id": "5a08caa5",
   "metadata": {},
   "outputs": [],
   "source": [
    "# for loop\n",
    "\n",
    "for i in range(1,11):\n",
    "    print(i,\"Hello World!👋\")"
   ]
  },
  {
   "cell_type": "markdown",
   "id": "675cac92",
   "metadata": {},
   "source": [
    "## Functions in Python"
   ]
  },
  {
   "cell_type": "code",
   "execution_count": null,
   "id": "b1afc7f1",
   "metadata": {},
   "outputs": [],
   "source": [
    "def checkAge(age):\n",
    "    if age >= 18:\n",
    "        print(\"User can Vote\")\n",
    "    else:\n",
    "        print(\"User Can't Vote\")\n",
    "        "
   ]
  },
  {
   "cell_type": "code",
   "execution_count": null,
   "id": "7cddc827",
   "metadata": {},
   "outputs": [],
   "source": [
    "checkAge(17)"
   ]
  },
  {
   "cell_type": "markdown",
   "id": "d56207a5",
   "metadata": {},
   "source": [
    "## Library in Python"
   ]
  },
  {
   "cell_type": "code",
   "execution_count": null,
   "id": "1896c0bb",
   "metadata": {},
   "outputs": [],
   "source": [
    "pip install os-sys"
   ]
  },
  {
   "cell_type": "code",
   "execution_count": 1,
   "id": "53df8c4b",
   "metadata": {},
   "outputs": [],
   "source": [
    "import os"
   ]
  },
  {
   "cell_type": "code",
   "execution_count": 2,
   "id": "daaa0b47",
   "metadata": {},
   "outputs": [
    {
     "data": {
      "text/plain": [
       "0"
      ]
     },
     "execution_count": 2,
     "metadata": {},
     "output_type": "execute_result"
    }
   ],
   "source": [
    "os.system(\"notepad\")"
   ]
  },
  {
   "cell_type": "code",
   "execution_count": null,
   "id": "32d9e843",
   "metadata": {},
   "outputs": [],
   "source": []
  }
 ],
 "metadata": {
  "kernelspec": {
   "display_name": "Python 3 (ipykernel)",
   "language": "python",
   "name": "python3"
  },
  "language_info": {
   "codemirror_mode": {
    "name": "ipython",
    "version": 3
   },
   "file_extension": ".py",
   "mimetype": "text/x-python",
   "name": "python",
   "nbconvert_exporter": "python",
   "pygments_lexer": "ipython3",
   "version": "3.11.4"
  }
 },
 "nbformat": 4,
 "nbformat_minor": 5
}
