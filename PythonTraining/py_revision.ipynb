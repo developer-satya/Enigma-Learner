{
 "cells": [
  {
   "cell_type": "markdown",
   "id": "34be98b4",
   "metadata": {},
   "source": [
    "# First Program in python"
   ]
  },
  {
   "cell_type": "code",
   "execution_count": 1,
   "id": "ca1a9ccb",
   "metadata": {},
   "outputs": [
    {
     "name": "stdout",
     "output_type": "stream",
     "text": [
      "Hello World!\n"
     ]
    }
   ],
   "source": [
    "print(\"Hello World!\")"
   ]
  },
  {
   "cell_type": "markdown",
   "id": "f0f15067",
   "metadata": {},
   "source": [
    "# variable in Python"
   ]
  },
  {
   "cell_type": "code",
   "execution_count": 2,
   "id": "1c7d990f",
   "metadata": {},
   "outputs": [
    {
     "name": "stdout",
     "output_type": "stream",
     "text": [
      "Hello World\n"
     ]
    }
   ],
   "source": [
    "var1 = \"Hello World\"\n",
    "print(var1)"
   ]
  },
  {
   "cell_type": "code",
   "execution_count": 3,
   "id": "47120e4c",
   "metadata": {},
   "outputs": [
    {
     "name": "stdout",
     "output_type": "stream",
     "text": [
      "12\n",
      "12.4\n",
      "True\n"
     ]
    }
   ],
   "source": [
    "var2 = 12\n",
    "var3 = 12.4\n",
    "var4 = True\n",
    "print(var2)\n",
    "print(var3)\n",
    "print(var4)"
   ]
  },
  {
   "cell_type": "markdown",
   "id": "108eecb7",
   "metadata": {},
   "source": [
    "# Operators in python\n",
    "(+,-,/,*)"
   ]
  },
  {
   "cell_type": "code",
   "execution_count": 9,
   "id": "d26a7993",
   "metadata": {},
   "outputs": [
    {
     "name": "stdout",
     "output_type": "stream",
     "text": [
      "16\n",
      "8\n",
      "48\n",
      "3.0\n",
      "2\n",
      "625\n"
     ]
    }
   ],
   "source": [
    "num1 = 12\n",
    "num2 = 4\n",
    "num3 = 5\n",
    "\n",
    "# Addition\n",
    "print(num1 + num2)\n",
    "\n",
    "# Substraction\n",
    "print(num1 - num2)\n",
    "\n",
    "# Multiplication\n",
    "print(num1 * num2)\n",
    "\n",
    "# Division\n",
    "print(num1 / num2)\n",
    "\n",
    "# Modulus\n",
    "print(num1 % num3)\n",
    "\n",
    "# Exponential\n",
    "print(num3 ** num2)"
   ]
  },
  {
   "cell_type": "markdown",
   "id": "b4c0294a",
   "metadata": {},
   "source": [
    "# Conditional Statement"
   ]
  },
  {
   "cell_type": "markdown",
   "id": "713e4b66",
   "metadata": {},
   "source": [
    "- if ,   \n",
    "- if-else \n",
    "- else-if ladder, \n",
    "- nested-if-else"
   ]
  },
  {
   "cell_type": "markdown",
   "id": "a4ba3359",
   "metadata": {},
   "source": [
    "### if statement"
   ]
  },
  {
   "cell_type": "markdown",
   "id": "fd388a54",
   "metadata": {},
   "source": [
    "if user_age >= 18:\n",
    "    user can vote."
   ]
  },
  {
   "cell_type": "code",
   "execution_count": 14,
   "id": "e3e820a8",
   "metadata": {},
   "outputs": [],
   "source": [
    "user_age = 12\n",
    "\n",
    "if user_age >= 18:\n",
    "    print(\"User can vote.\")"
   ]
  },
  {
   "cell_type": "markdown",
   "id": "e42fd25c",
   "metadata": {},
   "source": [
    "### if else "
   ]
  },
  {
   "cell_type": "code",
   "execution_count": 13,
   "id": "b4e309dd",
   "metadata": {},
   "outputs": [
    {
     "name": "stdout",
     "output_type": "stream",
     "text": [
      "User can't vote.\n"
     ]
    }
   ],
   "source": [
    "if user_age >= 18:\n",
    "    print(\"User can vote.\")\n",
    "else:\n",
    "    print(\"User can't vote.\")"
   ]
  },
  {
   "cell_type": "markdown",
   "id": "ac684a52",
   "metadata": {},
   "source": [
    "### else-if ladder"
   ]
  },
  {
   "cell_type": "markdown",
   "id": "bf919a6d",
   "metadata": {},
   "source": [
    "if marks >= 60:\n",
    "    1st division\n",
    "else if marks >= 50:\n",
    "    2nd division\n",
    "else if marks >= 40:\n",
    "    3rd division\n",
    "else:\n",
    "    failed"
   ]
  },
  {
   "cell_type": "code",
   "execution_count": 18,
   "id": "6f6baf0f",
   "metadata": {},
   "outputs": [
    {
     "name": "stdout",
     "output_type": "stream",
     "text": [
      "12\n",
      "12\n"
     ]
    }
   ],
   "source": [
    "numm = 12\n",
    "num_str = \"12\"\n",
    "print(numm)\n",
    "print(num_str)\n",
    "# print(numm > num_str)"
   ]
  },
  {
   "cell_type": "code",
   "execution_count": 21,
   "id": "b50d2df9",
   "metadata": {},
   "outputs": [
    {
     "name": "stdout",
     "output_type": "stream",
     "text": [
      "Enter your marks: 33\n",
      "Failed\n"
     ]
    }
   ],
   "source": [
    "marks = int(input(\"Enter your marks: \"))\n",
    "\n",
    "if marks >= 60:\n",
    "    print(\"1st Division\")\n",
    "elif marks >= 50:\n",
    "    print(\"2nd Division\")\n",
    "elif marks >= 40:\n",
    "    print(\"3rd Division\")\n",
    "else:\n",
    "    print(\"Failed\")"
   ]
  },
  {
   "cell_type": "markdown",
   "id": "cc9cd868",
   "metadata": {},
   "source": [
    "### nested if statement"
   ]
  },
  {
   "cell_type": "markdown",
   "id": "0c6230cc",
   "metadata": {},
   "source": [
    "if color == black:\n",
    "    if size == M:\n",
    "        bought it\n",
    "    else if size == L:\n",
    "        bought it\n",
    "    else:\n",
    "        go to another shop\n",
    "else if color == blue:\n",
    "    if size == M\n",
    "        bought it\n",
    "    else:\n",
    "        go to another shop\n",
    "else:\n",
    "    go to another shop"
   ]
  },
  {
   "cell_type": "code",
   "execution_count": 24,
   "id": "0a605162",
   "metadata": {},
   "outputs": [
    {
     "name": "stdout",
     "output_type": "stream",
     "text": [
      "Enter color of shirt: black\n",
      "Enter the size of shirt: xl\n",
      "Go to another shop\n"
     ]
    }
   ],
   "source": [
    "color = input(\"Enter color of shirt: \")\n",
    "size = input(\"Enter the size of shirt: \")\n",
    "\n",
    "if color == 'blue':\n",
    "    if size == 'l':\n",
    "        print(\"Bought it\")\n",
    "    elif size == 'm':\n",
    "        print(\"Bought it\")\n",
    "    else:\n",
    "        print(\"Go to another shop\")\n",
    "elif color == 'black':\n",
    "    if size == 'l':\n",
    "        print(\"Bought it\")\n",
    "    else:\n",
    "        print(\"Go to another shop\")\n",
    "else:\n",
    "    print(\"Go to another shop\")"
   ]
  },
  {
   "cell_type": "markdown",
   "id": "8d0f00bb",
   "metadata": {},
   "source": [
    "# Loop statement in python"
   ]
  },
  {
   "cell_type": "markdown",
   "id": "bca42443",
   "metadata": {},
   "source": [
    "- while loop\n",
    "- for loop"
   ]
  },
  {
   "cell_type": "markdown",
   "id": "21dd645a",
   "metadata": {},
   "source": [
    "### while loop\n"
   ]
  },
  {
   "cell_type": "code",
   "execution_count": 26,
   "id": "e247f397",
   "metadata": {},
   "outputs": [
    {
     "name": "stdout",
     "output_type": "stream",
     "text": [
      "Hello World!👋\n",
      "Hello World!👋\n",
      "Hello World!👋\n",
      "Hello World!👋\n",
      "Hello World!👋\n",
      "Hello World!👋\n",
      "Hello World!👋\n",
      "Hello World!👋\n",
      "Hello World!👋\n",
      "Hello World!👋\n"
     ]
    }
   ],
   "source": [
    "num = 0\n",
    "while num < 10:\n",
    "    print(\"Hello World!👋\")\n",
    "    num = num + 1"
   ]
  },
  {
   "cell_type": "markdown",
   "id": "fa08a192",
   "metadata": {},
   "source": [
    "### for loop"
   ]
  },
  {
   "cell_type": "code",
   "execution_count": 32,
   "id": "37ac8d6b",
   "metadata": {},
   "outputs": [
    {
     "name": "stdout",
     "output_type": "stream",
     "text": [
      "1 Hello World!👋\n",
      "3 Hello World!👋\n",
      "5 Hello World!👋\n",
      "7 Hello World!👋\n",
      "9 Hello World!👋\n"
     ]
    }
   ],
   "source": [
    "for i in range(1, 11, 2):\n",
    "    print(i, end=\"\")\n",
    "    print(\" Hello World!👋\")"
   ]
  },
  {
   "cell_type": "markdown",
   "id": "e1cb7176",
   "metadata": {},
   "source": [
    "# Collections in Python"
   ]
  },
  {
   "cell_type": "markdown",
   "id": "7162c3b5",
   "metadata": {},
   "source": [
    "- list\n",
    "- tuple\n",
    "- set\n",
    "- dictionary"
   ]
  },
  {
   "cell_type": "code",
   "execution_count": null,
   "id": "b2cfa464",
   "metadata": {},
   "outputs": [],
   "source": []
  }
 ],
 "metadata": {
  "kernelspec": {
   "display_name": "Python 3 (ipykernel)",
   "language": "python",
   "name": "python3"
  },
  "language_info": {
   "codemirror_mode": {
    "name": "ipython",
    "version": 3
   },
   "file_extension": ".py",
   "mimetype": "text/x-python",
   "name": "python",
   "nbconvert_exporter": "python",
   "pygments_lexer": "ipython3",
   "version": "3.11.4"
  }
 },
 "nbformat": 4,
 "nbformat_minor": 5
}
