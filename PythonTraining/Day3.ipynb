{
 "cells": [
  {
   "cell_type": "code",
   "execution_count": 1,
   "id": "e6c111c5",
   "metadata": {},
   "outputs": [],
   "source": [
    "trainees = [\n",
    "    [\"Shivam\",234,\"B.Tech\"],\n",
    "    [\"Shiv\", 456, \"B.A.\"],\n",
    "    [\"Tyagi\", 293, \"B.Ed.\"],\n",
    "    [\"Kiran\", 789, \"Diploma\"],\n",
    "    [\"Shreyansh\", 765, \"B.Tech\"],\n",
    "    [\"Shiv\", 456, \"B.A.\"],\n",
    "    [\"Tyagi\", 293, \"B.Ed.\"],\n",
    "    [\"Kiran\", 789, \"Diploma\"]\n",
    "]"
   ]
  },
  {
   "cell_type": "code",
   "execution_count": 2,
   "id": "c80f439c",
   "metadata": {},
   "outputs": [
    {
     "name": "stdout",
     "output_type": "stream",
     "text": [
      "[['Shivam', 234, 'B.Tech'], ['Shiv', 456, 'B.A.'], ['Tyagi', 293, 'B.Ed.'], ['Kiran', 789, 'Diploma'], ['Shreyansh', 765, 'B.Tech'], ['Shiv', 456, 'B.A.'], ['Tyagi', 293, 'B.Ed.'], ['Kiran', 789, 'Diploma']]\n"
     ]
    }
   ],
   "source": [
    "print(trainees)"
   ]
  },
  {
   "cell_type": "code",
   "execution_count": 4,
   "id": "d81cb0b8",
   "metadata": {},
   "outputs": [
    {
     "name": "stdout",
     "output_type": "stream",
     "text": [
      "['Shiv', 456, 'B.A.']\n"
     ]
    }
   ],
   "source": [
    "print(trainees[1])"
   ]
  },
  {
   "cell_type": "code",
   "execution_count": 5,
   "id": "1d61ce1f",
   "metadata": {},
   "outputs": [
    {
     "name": "stdout",
     "output_type": "stream",
     "text": [
      "456\n"
     ]
    }
   ],
   "source": [
    "print(trainees[1][1])"
   ]
  },
  {
   "cell_type": "code",
   "execution_count": 34,
   "id": "40d3385d",
   "metadata": {
    "scrolled": false
   },
   "outputs": [
    {
     "name": "stdout",
     "output_type": "stream",
     "text": [
      "234\n",
      "456\n",
      "293\n",
      "789\n",
      "765\n",
      "456\n",
      "293\n",
      "789\n"
     ]
    }
   ],
   "source": [
    "for num in trainees:\n",
    "    print(num[1])"
   ]
  },
  {
   "cell_type": "code",
   "execution_count": 39,
   "id": "ea9722e1",
   "metadata": {},
   "outputs": [
    {
     "name": "stdout",
     "output_type": "stream",
     "text": [
      "[234, 456, 293, 789, 765, 456, 293, 789]\n"
     ]
    }
   ],
   "source": [
    "num_list = [i[1] for i in trainees]\n",
    "print(num_list)"
   ]
  },
  {
   "cell_type": "code",
   "execution_count": 40,
   "id": "b55055ec",
   "metadata": {},
   "outputs": [
    {
     "name": "stdout",
     "output_type": "stream",
     "text": [
      "[['Shivam', 234], ['Shiv', 456], ['Tyagi', 293], ['Kiran', 789], ['Shreyansh', 765], ['Shiv', 456], ['Tyagi', 293], ['Kiran', 789]]\n"
     ]
    }
   ],
   "source": [
    "new_list = [i[0:2] for i in trainees]\n",
    "print(new_list)"
   ]
  },
  {
   "cell_type": "code",
   "execution_count": 59,
   "id": "470005fe",
   "metadata": {},
   "outputs": [
    {
     "name": "stdout",
     "output_type": "stream",
     "text": [
      "234\n"
     ]
    }
   ],
   "source": [
    "n = [0,1,2,3,4,5,6]\n",
    "sub_list = trainees[0][1]\n",
    "print(sub_list)"
   ]
  },
  {
   "cell_type": "code",
   "execution_count": null,
   "id": "9a08f161",
   "metadata": {},
   "outputs": [],
   "source": []
  },
  {
   "cell_type": "code",
   "execution_count": null,
   "id": "9015ec57",
   "metadata": {},
   "outputs": [],
   "source": []
  }
 ],
 "metadata": {
  "kernelspec": {
   "display_name": "Python 3 (ipykernel)",
   "language": "python",
   "name": "python3"
  },
  "language_info": {
   "codemirror_mode": {
    "name": "ipython",
    "version": 3
   },
   "file_extension": ".py",
   "mimetype": "text/x-python",
   "name": "python",
   "nbconvert_exporter": "python",
   "pygments_lexer": "ipython3",
   "version": "3.11.4"
  }
 },
 "nbformat": 4,
 "nbformat_minor": 5
}
