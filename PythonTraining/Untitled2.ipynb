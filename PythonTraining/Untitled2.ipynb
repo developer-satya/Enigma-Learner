{
 "cells": [
  {
   "cell_type": "code",
   "execution_count": 3,
   "id": "7dd4657b",
   "metadata": {},
   "outputs": [],
   "source": [
    "statement = \"we are creators and inovators\""
   ]
  },
  {
   "cell_type": "code",
   "execution_count": 16,
   "id": "dc91a309",
   "metadata": {},
   "outputs": [
    {
     "data": {
      "text/plain": [
       "('creators', 'inovators')"
      ]
     },
     "execution_count": 16,
     "metadata": {},
     "output_type": "execute_result"
    }
   ],
   "source": [
    "statement[7:15],statement[-9:]"
   ]
  },
  {
   "cell_type": "code",
   "execution_count": 17,
   "id": "5b217a87",
   "metadata": {},
   "outputs": [
    {
     "name": "stdout",
     "output_type": "stream",
     "text": [
      "creators inovators\n"
     ]
    }
   ],
   "source": [
    "print(statement[7:15],statement[-9:])"
   ]
  },
  {
   "cell_type": "markdown",
   "id": "5627b3b4",
   "metadata": {},
   "source": [
    "## Conditional Statements\n",
    "\n",
    ">if salary is greater than and equal to 10 lpa\n",
    ">>then accept\n",
    "\n",
    ">else\n",
    ">>reject\n",
    "\n"
   ]
  },
  {
   "cell_type": "code",
   "execution_count": null,
   "id": "880e9eac",
   "metadata": {},
   "outputs": [],
   "source": [
    "salary = 10\n",
    "\n",
    "if salary >= 10:\n",
    "    print(\"✅Accept it!\")\n",
    "else:\n",
    "    print(\"❌Reject it!\")"
   ]
  },
  {
   "cell_type": "code",
   "execution_count": 24,
   "id": "8f09a512",
   "metadata": {},
   "outputs": [
    {
     "name": "stdout",
     "output_type": "stream",
     "text": [
      "22 + 10 is less than 50\n"
     ]
    }
   ],
   "source": [
    "a = 22\n",
    "b = 10\n",
    "\n",
    "if a+b > 50:\n",
    "    print(a,\"+\",b,\"is greater than 50\")\n",
    "else:\n",
    "    print(a,\"+\",b,\"is less than 50\")"
   ]
  },
  {
   "cell_type": "code",
   "execution_count": 25,
   "id": "4b335721",
   "metadata": {},
   "outputs": [
    {
     "name": "stdout",
     "output_type": "stream",
     "text": [
      "Four\n"
     ]
    }
   ],
   "source": [
    "result = int(input(\"Enter a number between 1 to 6: \"))\n",
    "\n",
    "if result == 1:\n",
    "    print(\"One\")\n",
    "if result == 2:\n",
    "    print(\"Two\")\n",
    "if result == 3:\n",
    "    print(\"Three\")\n",
    "if result == 4:\n",
    "    print(\"Four\")\n",
    "if result == 5:\n",
    "    print(\"Five\")\n",
    "if result == 6:\n",
    "    print(\"Six\")\n",
    "else:\n",
    "    print(\"Invalid Input\")"
   ]
  },
  {
   "cell_type": "code",
   "execution_count": null,
   "id": "15e22710",
   "metadata": {},
   "outputs": [],
   "source": [
    "result = 7\n",
    "\n",
    "if result == 1:\n",
    "    print(\"One\")\n",
    "elif result == 2:\n",
    "    print(\"Two\")\n",
    "elif result == 3:\n",
    "    print(\"Three\")\n",
    "elif result == 4:\n",
    "    print(\"Four\")\n",
    "elif result == 5:\n",
    "    print(\"Five\")\n",
    "elif result == 6:\n",
    "    print(\"Six\")\n",
    "else:\n",
    "    print(\"Invalid\")"
   ]
  }
 ],
 "metadata": {
  "kernelspec": {
   "display_name": "Python 3 (ipykernel)",
   "language": "python",
   "name": "python3"
  },
  "language_info": {
   "codemirror_mode": {
    "name": "ipython",
    "version": 3
   },
   "file_extension": ".py",
   "mimetype": "text/x-python",
   "name": "python",
   "nbconvert_exporter": "python",
   "pygments_lexer": "ipython3",
   "version": "3.11.4"
  }
 },
 "nbformat": 4,
 "nbformat_minor": 5
}
