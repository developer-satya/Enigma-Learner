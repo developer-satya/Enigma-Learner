{
 "cells": [
  {
   "cell_type": "code",
   "execution_count": 1,
   "id": "ddc4f491",
   "metadata": {},
   "outputs": [
    {
     "name": "stdout",
     "output_type": "stream",
     "text": [
      "Requirement already satisfied: boto3 in c:\\users\\sanaya\\anaconda3\\lib\\site-packages (1.24.28)Note: you may need to restart the kernel to use updated packages.\n",
      "\n",
      "Requirement already satisfied: botocore<1.28.0,>=1.27.28 in c:\\users\\sanaya\\anaconda3\\lib\\site-packages (from boto3) (1.27.59)\n",
      "Requirement already satisfied: jmespath<2.0.0,>=0.7.1 in c:\\users\\sanaya\\anaconda3\\lib\\site-packages (from boto3) (0.10.0)\n",
      "Requirement already satisfied: s3transfer<0.7.0,>=0.6.0 in c:\\users\\sanaya\\anaconda3\\lib\\site-packages (from boto3) (0.6.0)\n",
      "Requirement already satisfied: python-dateutil<3.0.0,>=2.1 in c:\\users\\sanaya\\anaconda3\\lib\\site-packages (from botocore<1.28.0,>=1.27.28->boto3) (2.8.2)\n",
      "Requirement already satisfied: urllib3<1.27,>=1.25.4 in c:\\users\\sanaya\\anaconda3\\lib\\site-packages (from botocore<1.28.0,>=1.27.28->boto3) (1.26.16)\n",
      "Requirement already satisfied: six>=1.5 in c:\\users\\sanaya\\anaconda3\\lib\\site-packages (from python-dateutil<3.0.0,>=2.1->botocore<1.28.0,>=1.27.28->boto3) (1.16.0)\n"
     ]
    }
   ],
   "source": [
    "pip install boto3"
   ]
  },
  {
   "cell_type": "code",
   "execution_count": 2,
   "id": "5dfa444b",
   "metadata": {},
   "outputs": [],
   "source": [
    "import boto3"
   ]
  },
  {
   "cell_type": "code",
   "execution_count": 6,
   "id": "62f520c7",
   "metadata": {},
   "outputs": [
    {
     "data": {
      "text/plain": [
       "{'Groups': [],\n",
       " 'Instances': [{'AmiLaunchIndex': 0,\n",
       "   'ImageId': 'ami-0a0f1259dd1c90938',\n",
       "   'InstanceId': 'i-0aec577b54414f9dd',\n",
       "   'InstanceType': 't2.micro',\n",
       "   'LaunchTime': datetime.datetime(2023, 12, 31, 8, 58, 26, tzinfo=tzutc()),\n",
       "   'Monitoring': {'State': 'disabled'},\n",
       "   'Placement': {'AvailabilityZone': 'ap-south-1b',\n",
       "    'GroupName': '',\n",
       "    'Tenancy': 'default'},\n",
       "   'PrivateDnsName': 'ip-172-31-8-229.ap-south-1.compute.internal',\n",
       "   'PrivateIpAddress': '172.31.8.229',\n",
       "   'ProductCodes': [],\n",
       "   'PublicDnsName': '',\n",
       "   'State': {'Code': 0, 'Name': 'pending'},\n",
       "   'StateTransitionReason': '',\n",
       "   'SubnetId': 'subnet-0300193ffb7c140c4',\n",
       "   'VpcId': 'vpc-07a3af5a762aa8f66',\n",
       "   'Architecture': 'x86_64',\n",
       "   'BlockDeviceMappings': [],\n",
       "   'ClientToken': '310f815c-a71c-45ae-b25d-6d53b701480b',\n",
       "   'EbsOptimized': False,\n",
       "   'EnaSupport': True,\n",
       "   'Hypervisor': 'xen',\n",
       "   'NetworkInterfaces': [{'Attachment': {'AttachTime': datetime.datetime(2023, 12, 31, 8, 58, 26, tzinfo=tzutc()),\n",
       "      'AttachmentId': 'eni-attach-0f31ecbd49a6b8c46',\n",
       "      'DeleteOnTermination': True,\n",
       "      'DeviceIndex': 0,\n",
       "      'Status': 'attaching',\n",
       "      'NetworkCardIndex': 0},\n",
       "     'Description': '',\n",
       "     'Groups': [{'GroupName': 'default', 'GroupId': 'sg-0ad885ac3b89766e5'}],\n",
       "     'Ipv6Addresses': [],\n",
       "     'MacAddress': '0a:ca:ae:18:74:8b',\n",
       "     'NetworkInterfaceId': 'eni-078a203c6bcb84f45',\n",
       "     'OwnerId': '943393446406',\n",
       "     'PrivateDnsName': 'ip-172-31-8-229.ap-south-1.compute.internal',\n",
       "     'PrivateIpAddress': '172.31.8.229',\n",
       "     'PrivateIpAddresses': [{'Primary': True,\n",
       "       'PrivateDnsName': 'ip-172-31-8-229.ap-south-1.compute.internal',\n",
       "       'PrivateIpAddress': '172.31.8.229'}],\n",
       "     'SourceDestCheck': True,\n",
       "     'Status': 'in-use',\n",
       "     'SubnetId': 'subnet-0300193ffb7c140c4',\n",
       "     'VpcId': 'vpc-07a3af5a762aa8f66',\n",
       "     'InterfaceType': 'interface'}],\n",
       "   'RootDeviceName': '/dev/xvda',\n",
       "   'RootDeviceType': 'ebs',\n",
       "   'SecurityGroups': [{'GroupName': 'default',\n",
       "     'GroupId': 'sg-0ad885ac3b89766e5'}],\n",
       "   'SourceDestCheck': True,\n",
       "   'StateReason': {'Code': 'pending', 'Message': 'pending'},\n",
       "   'VirtualizationType': 'hvm',\n",
       "   'CpuOptions': {'CoreCount': 1, 'ThreadsPerCore': 1},\n",
       "   'CapacityReservationSpecification': {'CapacityReservationPreference': 'open'},\n",
       "   'MetadataOptions': {'State': 'pending',\n",
       "    'HttpTokens': 'required',\n",
       "    'HttpPutResponseHopLimit': 2,\n",
       "    'HttpEndpoint': 'enabled',\n",
       "    'HttpProtocolIpv6': 'disabled',\n",
       "    'InstanceMetadataTags': 'disabled'},\n",
       "   'EnclaveOptions': {'Enabled': False},\n",
       "   'BootMode': 'uefi-preferred',\n",
       "   'PrivateDnsNameOptions': {'HostnameType': 'ip-name',\n",
       "    'EnableResourceNameDnsARecord': False,\n",
       "    'EnableResourceNameDnsAAAARecord': False},\n",
       "   'MaintenanceOptions': {'AutoRecovery': 'default'}}],\n",
       " 'OwnerId': '943393446406',\n",
       " 'ReservationId': 'r-09524651ea5445a8a',\n",
       " 'ResponseMetadata': {'RequestId': '201b3ec8-1a36-4051-80b8-359bcb67aaa3',\n",
       "  'HTTPStatusCode': 200,\n",
       "  'HTTPHeaders': {'x-amzn-requestid': '201b3ec8-1a36-4051-80b8-359bcb67aaa3',\n",
       "   'cache-control': 'no-cache, no-store',\n",
       "   'strict-transport-security': 'max-age=31536000; includeSubDomains',\n",
       "   'vary': 'accept-encoding',\n",
       "   'content-type': 'text/xml;charset=UTF-8',\n",
       "   'content-length': '5632',\n",
       "   'date': 'Sun, 31 Dec 2023 08:58:25 GMT',\n",
       "   'server': 'AmazonEC2'},\n",
       "  'RetryAttempts': 0}}"
      ]
     },
     "execution_count": 6,
     "metadata": {},
     "output_type": "execute_result"
    }
   ],
   "source": [
    "ec=boto3.client(\"ec2\")\n",
    "ec.run_instances(\n",
    "    ImageId=\"ami-0a0f1259dd1c90938\",\n",
    "    InstanceType=\"t2.micro\",\n",
    "    MinCount=1,\n",
    "    MaxCount=1\n",
    ")"
   ]
  },
  {
   "cell_type": "code",
   "execution_count": null,
   "id": "4fb48e23",
   "metadata": {},
   "outputs": [],
   "source": []
  }
 ],
 "metadata": {
  "kernelspec": {
   "display_name": "Python 3 (ipykernel)",
   "language": "python",
   "name": "python3"
  },
  "language_info": {
   "codemirror_mode": {
    "name": "ipython",
    "version": 3
   },
   "file_extension": ".py",
   "mimetype": "text/x-python",
   "name": "python",
   "nbconvert_exporter": "python",
   "pygments_lexer": "ipython3",
   "version": "3.11.4"
  }
 },
 "nbformat": 4,
 "nbformat_minor": 5
}
