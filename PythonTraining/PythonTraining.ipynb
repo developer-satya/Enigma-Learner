{
 "cells": [
  {
   "cell_type": "markdown",
   "id": "6a1c90fe",
   "metadata": {},
   "source": [
    "# Python Loop Statement\n",
    "\n",
    "- while loop\n",
    "- for loop"
   ]
  },
  {
   "cell_type": "markdown",
   "id": "87d3d136",
   "metadata": {},
   "source": [
    "# First Program in python"
   ]
  },
  {
   "cell_type": "code",
   "execution_count": 9,
   "id": "ae20d472",
   "metadata": {},
   "outputs": [
    {
     "name": "stdout",
     "output_type": "stream",
     "text": [
      "1 Hii 👋\n",
      "4 Hii 👋\n",
      "7 Hii 👋\n",
      "10 Hii 👋\n"
     ]
    }
   ],
   "source": [
    "# < 5\n",
    "for num in range(1,11,3):\n",
    "    print(num, end=\"\")\n",
    "    print(\" Hii 👋\")"
   ]
  },
  {
   "cell_type": "code",
   "execution_count": 41,
   "id": "5f132ffc",
   "metadata": {},
   "outputs": [
    {
     "name": "stdout",
     "output_type": "stream",
     "text": [
      "1\n",
      "210\n",
      "3210\n",
      "43210\n",
      "543210\n"
     ]
    }
   ],
   "source": [
    "num = 6\n",
    "\n",
    "for i in range(1,num):\n",
    "    if i == 1:\n",
    "        print(i)\n",
    "        continue\n",
    "    for j in range(i,-1,-1):\n",
    "        print(j, end=\"\")\n",
    "    print()"
   ]
  },
  {
   "cell_type": "code",
   "execution_count": 44,
   "id": "73a5f5fa",
   "metadata": {},
   "outputs": [
    {
     "name": "stdout",
     "output_type": "stream",
     "text": [
      "1\n",
      "210\n",
      "3210\n",
      "43210\n",
      "543210\n"
     ]
    }
   ],
   "source": [
    "num = 6\n",
    "# i = 2\n",
    "for i in range(1,num):     \n",
    "    for j in range(i,-1,-1):\n",
    "        if i == 1:\n",
    "            print(j, end=\"\")\n",
    "            break\n",
    "        else:\n",
    "            print(j, end=\"\")\n",
    "    print()"
   ]
  },
  {
   "cell_type": "code",
   "execution_count": 45,
   "id": "e7b2f4a9",
   "metadata": {},
   "outputs": [
    {
     "name": "stdout",
     "output_type": "stream",
     "text": [
      "10\n",
      "210\n",
      "3210\n",
      "43210\n",
      "543210\n"
     ]
    }
   ],
   "source": [
    "num = 6\n",
    "text = \"Temp\"\n",
    "\n",
    "for i in range(1,num):\n",
    "    for j in range(i,-1,-1):\n",
    "        print(j, end=\"\")\n",
    "    print()"
   ]
  },
  {
   "cell_type": "markdown",
   "id": "8bb67cef",
   "metadata": {},
   "source": [
    "# Python Collection\n"
   ]
  },
  {
   "cell_type": "markdown",
   "id": "c8432fed",
   "metadata": {},
   "source": [
    "- list\n",
    "- tuple\n",
    "- set\n",
    "- dictionary"
   ]
  },
  {
   "cell_type": "code",
   "execution_count": 6,
   "id": "e1b87680",
   "metadata": {},
   "outputs": [
    {
     "name": "stdout",
     "output_type": "stream",
     "text": [
      "['Hello', 'World', 'Hii', 56, 78, True, False]\n"
     ]
    }
   ],
   "source": [
    "list1 = [\"Hello\", \"World\", \"Hii\", 56, 78, True, False]\n",
    "print(list1)"
   ]
  },
  {
   "cell_type": "code",
   "execution_count": 3,
   "id": "65e087c6",
   "metadata": {},
   "outputs": [
    {
     "name": "stdout",
     "output_type": "stream",
     "text": [
      "World\n"
     ]
    }
   ],
   "source": [
    "print(list1[1])"
   ]
  },
  {
   "cell_type": "code",
   "execution_count": 5,
   "id": "e310efd5",
   "metadata": {},
   "outputs": [
    {
     "name": "stdout",
     "output_type": "stream",
     "text": [
      "['bye', 'World', 'Hii']\n"
     ]
    }
   ],
   "source": [
    "list1[0] = \"bye\"    # mutable\n",
    "print(list1)"
   ]
  },
  {
   "cell_type": "code",
   "execution_count": 7,
   "id": "384c0080",
   "metadata": {},
   "outputs": [
    {
     "name": "stdout",
     "output_type": "stream",
     "text": [
      "('I', 'am', 'developer', 12, True)\n"
     ]
    }
   ],
   "source": [
    "tuple1 = (\"I\", \"am\", \"developer\", 12, True)\n",
    "print(tuple1)"
   ]
  },
  {
   "cell_type": "code",
   "execution_count": 11,
   "id": "fac9d8f6",
   "metadata": {},
   "outputs": [
    {
     "ename": "TypeError",
     "evalue": "'tuple' object does not support item assignment",
     "output_type": "error",
     "traceback": [
      "\u001b[1;31m---------------------------------------------------------------------------\u001b[0m",
      "\u001b[1;31mTypeError\u001b[0m                                 Traceback (most recent call last)",
      "Cell \u001b[1;32mIn[11], line 1\u001b[0m\n\u001b[1;32m----> 1\u001b[0m tuple1[\u001b[38;5;241m1\u001b[39m] \u001b[38;5;241m=\u001b[39m \u001b[38;5;124m\"\u001b[39m\u001b[38;5;124mwas\u001b[39m\u001b[38;5;124m\"\u001b[39m\n\u001b[0;32m      2\u001b[0m \u001b[38;5;28mprint\u001b[39m(tuple1)\n",
      "\u001b[1;31mTypeError\u001b[0m: 'tuple' object does not support item assignment"
     ]
    }
   ],
   "source": [
    "tuple1[1] = \"was\" # Immutable\n",
    "print(tuple1)"
   ]
  },
  {
   "cell_type": "code",
   "execution_count": 12,
   "id": "8ef2ab15",
   "metadata": {},
   "outputs": [
    {
     "name": "stdout",
     "output_type": "stream",
     "text": [
      "{'I', False, 12, 'am'}\n"
     ]
    }
   ],
   "source": [
    "set1 = {\"I\", \"am\", 12, False}\n",
    "print(set1)"
   ]
  },
  {
   "cell_type": "code",
   "execution_count": 14,
   "id": "dc442c68",
   "metadata": {},
   "outputs": [
    {
     "name": "stdout",
     "output_type": "stream",
     "text": [
      "I\n",
      "False\n",
      "12\n",
      "am\n"
     ]
    }
   ],
   "source": [
    "for x in set1:\n",
    "    print(x)"
   ]
  },
  {
   "cell_type": "markdown",
   "id": "c2b230b5",
   "metadata": {},
   "source": [
    "## Dictionary"
   ]
  },
  {
   "cell_type": "code",
   "execution_count": 24,
   "id": "a4aa7670",
   "metadata": {},
   "outputs": [
    {
     "name": "stdout",
     "output_type": "stream",
     "text": [
      "{'name': 'KingRao', 'branch': 'CS', 'IsHostler': True, 'Room': 23}\n"
     ]
    }
   ],
   "source": [
    "dict1 = {\n",
    "    \"name\":\"KingRao\",\n",
    "    \"branch\": \"CS\",\n",
    "    \"IsHostler\": True,\n",
    "    \"Room\": 23\n",
    "\n",
    "}\n",
    "\n",
    "print(dict1)"
   ]
  },
  {
   "cell_type": "code",
   "execution_count": 25,
   "id": "f119a455",
   "metadata": {},
   "outputs": [
    {
     "name": "stdout",
     "output_type": "stream",
     "text": [
      "23\n"
     ]
    }
   ],
   "source": [
    "print(dict1[\"Room\"])"
   ]
  },
  {
   "cell_type": "code",
   "execution_count": 28,
   "id": "3e8feb88",
   "metadata": {},
   "outputs": [
    {
     "name": "stdout",
     "output_type": "stream",
     "text": [
      "{'maths': 33, 'english': 34, 'DSA': 50}\n"
     ]
    }
   ],
   "source": [
    "student = {\n",
    "    \"name\":\"KingRao\",\n",
    "    \"branch\": \"CS\",\n",
    "    \"IsHostler\": True,\n",
    "    \"Room\": 23,\n",
    "    \"marks\": {\n",
    "        \"maths\":33,\n",
    "        \"english\":34,\n",
    "        \"DSA\":45\n",
    "    },\n",
    "    \"hobbies\": [\"Singing\", \"Dancing\"]\n",
    "    \n",
    "}\n",
    "\n",
    "student[\"marks\"][\"DSA\"] = 50 # mutable\n",
    "print(student[\"marks\"])"
   ]
  },
  {
   "cell_type": "code",
   "execution_count": 32,
   "id": "b8ec0be7",
   "metadata": {},
   "outputs": [
    {
     "name": "stdout",
     "output_type": "stream",
     "text": [
      "Collecting pyautoguiNote: you may need to restart the kernel to use updated packages.\n",
      "\n",
      "  Downloading PyAutoGUI-0.9.54.tar.gz (61 kB)\n",
      "     ---------------------------------------- 0.0/61.2 kB ? eta -:--:--\n",
      "     ------------------- ------------------ 30.7/61.2 kB 435.7 kB/s eta 0:00:01\n",
      "     ------------------- ------------------ 30.7/61.2 kB 435.7 kB/s eta 0:00:01\n",
      "     ------------------- ------------------ 30.7/61.2 kB 435.7 kB/s eta 0:00:01\n",
      "     ------------------------------- ------ 51.2/61.2 kB 200.8 kB/s eta 0:00:01\n",
      "     ------------------------------- ------ 51.2/61.2 kB 200.8 kB/s eta 0:00:01\n",
      "     ------------------------------- ------ 51.2/61.2 kB 200.8 kB/s eta 0:00:01\n",
      "     ------------------------------- ------ 51.2/61.2 kB 200.8 kB/s eta 0:00:01\n",
      "     ------------------------------- ------ 51.2/61.2 kB 200.8 kB/s eta 0:00:01\n",
      "     -------------------------------------- 61.2/61.2 kB 116.4 kB/s eta 0:00:00\n",
      "  Installing build dependencies: started\n",
      "  Installing build dependencies: finished with status 'done'\n",
      "  Getting requirements to build wheel: started\n",
      "  Getting requirements to build wheel: finished with status 'done'\n",
      "  Preparing metadata (pyproject.toml): started\n",
      "  Preparing metadata (pyproject.toml): finished with status 'done'\n",
      "Collecting pymsgbox (from pyautogui)\n",
      "  Using cached PyMsgBox-1.0.9.tar.gz (18 kB)\n",
      "  Installing build dependencies: started\n",
      "  Installing build dependencies: finished with status 'done'\n",
      "  Getting requirements to build wheel: started\n",
      "  Getting requirements to build wheel: finished with status 'done'\n",
      "  Preparing metadata (pyproject.toml): started\n",
      "  Preparing metadata (pyproject.toml): finished with status 'done'\n",
      "Collecting pytweening>=1.0.4 (from pyautogui)\n",
      "  Downloading pytweening-1.0.7.tar.gz (168 kB)\n",
      "     ---------------------------------------- 0.0/168.2 kB ? eta -:--:--\n",
      "     -- ------------------------------------- 10.2/168.2 kB ? eta -:--:--\n",
      "     ------ ------------------------------ 30.7/168.2 kB 445.2 kB/s eta 0:00:01\n",
      "     --------- --------------------------- 41.0/168.2 kB 330.3 kB/s eta 0:00:01\n",
      "     ------------- ----------------------- 61.4/168.2 kB 299.4 kB/s eta 0:00:01\n",
      "     ------------- ----------------------- 61.4/168.2 kB 299.4 kB/s eta 0:00:01\n",
      "     ------------------ ------------------ 81.9/168.2 kB 255.1 kB/s eta 0:00:01\n",
      "     -------------------- ---------------- 92.2/168.2 kB 249.8 kB/s eta 0:00:01\n",
      "     -------------------- ---------------- 92.2/168.2 kB 249.8 kB/s eta 0:00:01\n",
      "     ------------------------ ----------- 112.6/168.2 kB 234.3 kB/s eta 0:00:01\n",
      "     -------------------------- --------- 122.9/168.2 kB 232.7 kB/s eta 0:00:01\n",
      "     ------------------------------ ----- 143.4/168.2 kB 250.7 kB/s eta 0:00:01\n",
      "     ------------------------------ ----- 143.4/168.2 kB 250.7 kB/s eta 0:00:01\n",
      "     ------------------------------ ----- 143.4/168.2 kB 250.7 kB/s eta 0:00:01\n",
      "     ------------------------------ ----- 143.4/168.2 kB 250.7 kB/s eta 0:00:01\n",
      "     ------------------------------------ 168.2/168.2 kB 220.0 kB/s eta 0:00:00\n",
      "  Preparing metadata (setup.py): started\n",
      "  Preparing metadata (setup.py): finished with status 'done'\n",
      "Collecting pyscreeze>=0.1.21 (from pyautogui)\n",
      "  Downloading PyScreeze-0.1.29.tar.gz (25 kB)\n",
      "  Installing build dependencies: started\n",
      "  Installing build dependencies: finished with status 'done'\n",
      "  Getting requirements to build wheel: started\n",
      "  Getting requirements to build wheel: finished with status 'done'\n",
      "  Preparing metadata (pyproject.toml): started\n",
      "  Preparing metadata (pyproject.toml): finished with status 'done'\n",
      "Collecting pygetwindow>=0.0.5 (from pyautogui)\n",
      "  Using cached PyGetWindow-0.0.9.tar.gz (9.7 kB)\n",
      "  Preparing metadata (setup.py): started\n",
      "  Preparing metadata (setup.py): finished with status 'done'\n",
      "Collecting mouseinfo (from pyautogui)\n",
      "  Using cached MouseInfo-0.1.3.tar.gz (10 kB)\n",
      "  Preparing metadata (setup.py): started\n",
      "  Preparing metadata (setup.py): finished with status 'done'\n",
      "Collecting pyrect (from pygetwindow>=0.0.5->pyautogui)\n",
      "  Using cached PyRect-0.2.0.tar.gz (17 kB)\n",
      "  Preparing metadata (setup.py): started\n",
      "  Preparing metadata (setup.py): finished with status 'done'\n",
      "Collecting pyscreenshot (from pyscreeze>=0.1.21->pyautogui)\n",
      "  Downloading pyscreenshot-3.1-py3-none-any.whl (28 kB)\n",
      "Requirement already satisfied: Pillow>=9.3.0 in c:\\users\\sanaya\\anaconda3\\lib\\site-packages (from pyscreeze>=0.1.21->pyautogui) (9.4.0)\n",
      "Collecting pyperclip (from mouseinfo->pyautogui)\n",
      "  Using cached pyperclip-1.8.2.tar.gz (20 kB)\n",
      "  Preparing metadata (setup.py): started\n",
      "  Preparing metadata (setup.py): finished with status 'done'\n",
      "Collecting EasyProcess (from pyscreenshot->pyscreeze>=0.1.21->pyautogui)\n",
      "  Downloading EasyProcess-1.1-py3-none-any.whl (8.7 kB)\n",
      "Collecting entrypoint2 (from pyscreenshot->pyscreeze>=0.1.21->pyautogui)\n",
      "  Downloading entrypoint2-1.1-py2.py3-none-any.whl (9.9 kB)\n",
      "Collecting mss (from pyscreenshot->pyscreeze>=0.1.21->pyautogui)\n",
      "  Downloading mss-9.0.1-py3-none-any.whl (22 kB)\n",
      "Building wheels for collected packages: pyautogui, pygetwindow, pyscreeze, pytweening, mouseinfo, pymsgbox, pyperclip, pyrect\n",
      "  Building wheel for pyautogui (pyproject.toml): started\n",
      "  Building wheel for pyautogui (pyproject.toml): finished with status 'done'\n",
      "  Created wheel for pyautogui: filename=PyAutoGUI-0.9.54-py3-none-any.whl size=37597 sha256=8294dbd6ce92e83f49381020b8fd6cc1078b66122708667e6f77851bb30f9548\n",
      "  Stored in directory: c:\\users\\sanaya\\appdata\\local\\pip\\cache\\wheels\\95\\dc\\b1\\fe122b791e0db8bf439a0e6e1d2628e48f10bf430cae13521b\n",
      "  Building wheel for pygetwindow (setup.py): started\n",
      "  Building wheel for pygetwindow (setup.py): finished with status 'done'\n",
      "  Created wheel for pygetwindow: filename=PyGetWindow-0.0.9-py3-none-any.whl size=11079 sha256=cf70373fba6b3feb79d7705a736a34aa7378d1a8d1fa977d93eb4bda69b47030\n",
      "  Stored in directory: c:\\users\\sanaya\\appdata\\local\\pip\\cache\\wheels\\07\\75\\0b\\7ca0b598eb4c21d43ba4bcc78a0538dfcf803a5997da33bc19\n",
      "  Building wheel for pyscreeze (pyproject.toml): started\n",
      "  Building wheel for pyscreeze (pyproject.toml): finished with status 'done'\n",
      "  Created wheel for pyscreeze: filename=PyScreeze-0.1.29-py3-none-any.whl size=13484 sha256=cc3eee20537e8e0aafd3a66ca07703120e06ae9fedacf361ea3a3a7a64117243\n",
      "  Stored in directory: c:\\users\\sanaya\\appdata\\local\\pip\\cache\\wheels\\d3\\bd\\06\\4b4c57f65e89d1ab7a63a924c12aca4784cd95e74940371b5e\n",
      "  Building wheel for pytweening (setup.py): started\n",
      "  Building wheel for pytweening (setup.py): finished with status 'done'\n",
      "  Created wheel for pytweening: filename=pytweening-1.0.7-py3-none-any.whl size=6214 sha256=dc50efac5a98fb5528c3be3cb22dc186171c0213bcf31d6e8c195df44fba907f\n",
      "  Stored in directory: c:\\users\\sanaya\\appdata\\local\\pip\\cache\\wheels\\b2\\9b\\02\\059beba389e7e31a635bd9e8d9b7299f4ec11caca1f237f56d\n",
      "  Building wheel for mouseinfo (setup.py): started\n",
      "  Building wheel for mouseinfo (setup.py): finished with status 'done'\n",
      "  Created wheel for mouseinfo: filename=MouseInfo-0.1.3-py3-none-any.whl size=10906 sha256=0d57150cf6d69c50e45db6a42150486a427d22084b07de308747f50742995cf0\n",
      "  Stored in directory: c:\\users\\sanaya\\appdata\\local\\pip\\cache\\wheels\\20\\0b\\7f\\939ac9ff785b09951c706150537572c00123412f260a6024f3\n",
      "  Building wheel for pymsgbox (pyproject.toml): started\n",
      "  Building wheel for pymsgbox (pyproject.toml): finished with status 'done'\n",
      "  Created wheel for pymsgbox: filename=PyMsgBox-1.0.9-py3-none-any.whl size=7417 sha256=f9c36fccd3c98d2aac64a51579b4925c63734fcb18a25b616f3a4c0ab59d76ca\n",
      "  Stored in directory: c:\\users\\sanaya\\appdata\\local\\pip\\cache\\wheels\\85\\92\\63\\e126ee5f33d8f2ed04f96e43ef5df7270a2f331848752e8662\n",
      "  Building wheel for pyperclip (setup.py): started\n",
      "  Building wheel for pyperclip (setup.py): finished with status 'done'\n",
      "  Created wheel for pyperclip: filename=pyperclip-1.8.2-py3-none-any.whl size=11137 sha256=cefa6d37887f5bdd352677eb2baf5f524c52595dcd3d485cab7b87889fd15040\n",
      "  Stored in directory: c:\\users\\sanaya\\appdata\\local\\pip\\cache\\wheels\\70\\bd\\ba\\8ae5c080c895c9360fe6e153acda2dee82527374467eae061b\n",
      "  Building wheel for pyrect (setup.py): started\n",
      "  Building wheel for pyrect (setup.py): finished with status 'done'\n",
      "  Created wheel for pyrect: filename=PyRect-0.2.0-py2.py3-none-any.whl size=11205 sha256=5ba4366b950e7e5ca8069f768424b46eb4211a6913d7f843c653cc4df3871bd4\n",
      "  Stored in directory: c:\\users\\sanaya\\appdata\\local\\pip\\cache\\wheels\\c4\\e9\\fc\\b7a666dd4f9a3168fb44d643079b41d36ddab52f470707e820\n",
      "Successfully built pyautogui pygetwindow pyscreeze pytweening mouseinfo pymsgbox pyperclip pyrect\n",
      "Installing collected packages: pytweening, pyrect, pyperclip, pymsgbox, entrypoint2, EasyProcess, pygetwindow, mss, mouseinfo, pyscreenshot, pyscreeze, pyautogui\n",
      "Successfully installed EasyProcess-1.1 entrypoint2-1.1 mouseinfo-0.1.3 mss-9.0.1 pyautogui-0.9.54 pygetwindow-0.0.9 pymsgbox-1.0.9 pyperclip-1.8.2 pyrect-0.2.0 pyscreenshot-3.1 pyscreeze-0.1.29 pytweening-1.0.7\n"
     ]
    }
   ],
   "source": [
    "pip install pyautogui"
   ]
  },
  {
   "cell_type": "code",
   "execution_count": 35,
   "id": "3d904b75",
   "metadata": {},
   "outputs": [],
   "source": [
    "import pyautogui as py"
   ]
  },
  {
   "cell_type": "code",
   "execution_count": 34,
   "id": "49192421",
   "metadata": {},
   "outputs": [],
   "source": [
    "import time"
   ]
  },
  {
   "cell_type": "code",
   "execution_count": 37,
   "id": "9d6eac43",
   "metadata": {},
   "outputs": [],
   "source": [
    "num = 50\n",
    "\n",
    "time.sleep(10)\n",
    "for i in range(num):\n",
    "    py.write(\"Hello\")\n",
    "    py.press(\"enter\")\n",
    "    \n",
    "    "
   ]
  },
  {
   "cell_type": "code",
   "execution_count": null,
   "id": "5508a571",
   "metadata": {},
   "outputs": [],
   "source": []
  }
 ],
 "metadata": {
  "kernelspec": {
   "display_name": "Python 3 (ipykernel)",
   "language": "python",
   "name": "python3"
  },
  "language_info": {
   "codemirror_mode": {
    "name": "ipython",
    "version": 3
   },
   "file_extension": ".py",
   "mimetype": "text/x-python",
   "name": "python",
   "nbconvert_exporter": "python",
   "pygments_lexer": "ipython3",
   "version": "3.11.4"
  }
 },
 "nbformat": 4,
 "nbformat_minor": 5
}
