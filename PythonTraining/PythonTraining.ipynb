{
 "cells": [
  {
   "cell_type": "markdown",
   "id": "e73b88ad",
   "metadata": {},
   "source": [
    "# First Program in python"
   ]
  },
  {
   "cell_type": "code",
   "execution_count": null,
   "id": "97a7fa5c",
   "metadata": {},
   "outputs": [],
   "source": [
    "print(\"Hello World\")"
   ]
  },
  {
   "cell_type": "code",
   "execution_count": null,
   "id": "5c755721",
   "metadata": {},
   "outputs": [],
   "source": [
    "var1 = 12\n",
    "var2 = \"Hello\"\n",
    "var3 = True\n",
    "print(var1,var2,var3)"
   ]
  },
  {
   "cell_type": "code",
   "execution_count": null,
   "id": "121d5f7e",
   "metadata": {},
   "outputs": [],
   "source": [
    "print(f\"This is test string {var2}. this is number {var1} \")"
   ]
  },
  {
   "cell_type": "code",
   "execution_count": null,
   "id": "49a19fbf",
   "metadata": {},
   "outputs": [],
   "source": [
    "print(\"this is string \"+var2+\" this is number \")"
   ]
  },
  {
   "cell_type": "markdown",
   "id": "3e92ce8d",
   "metadata": {},
   "source": [
    "# Operators"
   ]
  },
  {
   "cell_type": "code",
   "execution_count": 4,
   "id": "846ed7a7",
   "metadata": {},
   "outputs": [
    {
     "name": "stdout",
     "output_type": "stream",
     "text": [
      "18\n"
     ]
    }
   ],
   "source": [
    "num1 = 12\n",
    "num2 = 6\n",
    "num3 = 5\n",
    "# Addition\n",
    "print(num1 + num2)"
   ]
  },
  {
   "cell_type": "code",
   "execution_count": null,
   "id": "b23f2d17",
   "metadata": {},
   "outputs": [],
   "source": [
    "# Subtraction\n",
    "print(num1 - num2)"
   ]
  },
  {
   "cell_type": "code",
   "execution_count": null,
   "id": "24645de3",
   "metadata": {},
   "outputs": [],
   "source": [
    "# Multiplication\n",
    "print(num1 * num3)"
   ]
  },
  {
   "cell_type": "code",
   "execution_count": null,
   "id": "020f37ef",
   "metadata": {},
   "outputs": [],
   "source": [
    "# Division\n",
    "print(num1 / num2)"
   ]
  },
  {
   "cell_type": "code",
   "execution_count": null,
   "id": "43e382a5",
   "metadata": {},
   "outputs": [],
   "source": [
    "# Exponential\n",
    "print(num3 ** 3)"
   ]
  },
  {
   "cell_type": "code",
   "execution_count": null,
   "id": "11749a7a",
   "metadata": {},
   "outputs": [],
   "source": [
    "# Modulus\n",
    "print(num1 % num3)"
   ]
  },
  {
   "cell_type": "markdown",
   "id": "4ecb934d",
   "metadata": {},
   "source": [
    "# Conditional Statements"
   ]
  },
  {
   "cell_type": "markdown",
   "id": "f1bdcdf3",
   "metadata": {},
   "source": [
    "#### If Statement"
   ]
  },
  {
   "cell_type": "code",
   "execution_count": null,
   "id": "e309b13c",
   "metadata": {},
   "outputs": [],
   "source": [
    "num1 = input(\"Enter a number: \")\n",
    "num2 = int(num1)\n",
    "print(num1)\n",
    "print(type(num1))\n",
    "\n",
    "print(num2)\n",
    "print(type(num2))"
   ]
  },
  {
   "cell_type": "code",
   "execution_count": null,
   "id": "7c00a425",
   "metadata": {},
   "outputs": [],
   "source": [
    "age = int(input(\"Enter your age: \"))\n",
    "if age >= 18:\n",
    "    print(\"you can vote.\")"
   ]
  },
  {
   "cell_type": "markdown",
   "id": "769afb4d",
   "metadata": {},
   "source": [
    "#### If else statement"
   ]
  },
  {
   "cell_type": "code",
   "execution_count": null,
   "id": "f88f7bb7",
   "metadata": {},
   "outputs": [],
   "source": [
    "age = int(input(\"Enter your age: \"))\n",
    "if age >= 18:\n",
    "    print(\"you can vote.\")\n",
    "else:\n",
    "    print(\"you can't vote\")"
   ]
  },
  {
   "cell_type": "markdown",
   "id": "38e2c070",
   "metadata": {},
   "source": [
    "#### If else ladder statement"
   ]
  },
  {
   "cell_type": "markdown",
   "id": "565351b0",
   "metadata": {},
   "source": [
    "Explantion:\n",
    "\n",
    "if marks > 60        let marks = 39\n",
    "    1st division\n",
    "\n",
    "else if marks > 50\n",
    "    2nd division\n",
    "    \n",
    "else if marks > 40\n",
    "    3rd division\n",
    "    \n",
    "else \n",
    "    fail"
   ]
  },
  {
   "cell_type": "code",
   "execution_count": null,
   "id": "76f19314",
   "metadata": {},
   "outputs": [],
   "source": [
    "marks = int(input(\"Enter your marks: \"))\n",
    "\n",
    "if marks >= 60:\n",
    "    print(\"1st Division.\")\n",
    "elif marks >=50:\n",
    "    print(\"2nd Division\")\n",
    "elif marks >= 40:\n",
    "    print(\"3rd Division\")\n",
    "else:\n",
    "    print(\"Fail\")\n"
   ]
  },
  {
   "cell_type": "markdown",
   "id": "d15fb4e7",
   "metadata": {},
   "source": [
    "### Nested if statement "
   ]
  },
  {
   "cell_type": "markdown",
   "id": "37fab12c",
   "metadata": {},
   "source": [
    "if color == black:\n",
    "    if size == M:\n",
    "        bought it\n",
    "    else:\n",
    "        go to another shop\n",
    "else if color == blue:\n",
    "    if size == M\n",
    "        bought it\n",
    "    else:\n",
    "        go to another shop\n",
    "else:\n",
    "    go to another shop"
   ]
  },
  {
   "cell_type": "code",
   "execution_count": null,
   "id": "1856853e",
   "metadata": {},
   "outputs": [],
   "source": [
    "marks = int(input(\"Enter your marks: \"))\n",
    "\n",
    "if marks > 40:\n",
    "    if marks > 60:\n",
    "        print(\"1st Division\")\n",
    "    elif marks > 50:\n",
    "        print(\"2nd Division\")\n",
    "    elif marks > 40:\n",
    "        print(\"3rd division\")\n",
    "else:\n",
    "    print(\"Failed\")"
   ]
  },
  {
   "cell_type": "markdown",
   "id": "6a1c90fe",
   "metadata": {},
   "source": [
    "# Python Loop Statement\n",
    "\n",
    "- while loop\n",
    "- for loop"
   ]
  },
  {
   "cell_type": "markdown",
   "id": "87d3d136",
   "metadata": {},
   "source": [
    "# First Program in python"
   ]
  },
  {
   "cell_type": "code",
   "execution_count": 9,
   "id": "ae20d472",
   "metadata": {},
   "outputs": [
    {
     "name": "stdout",
     "output_type": "stream",
     "text": [
      "1 Hii 👋\n",
      "4 Hii 👋\n",
      "7 Hii 👋\n",
      "10 Hii 👋\n"
     ]
    }
   ],
   "source": [
    "# < 5\n",
    "for num in range(1,11,3):\n",
    "    print(num, end=\"\")\n",
    "    print(\" Hii 👋\")"
   ]
  },
  {
   "cell_type": "code",
   "execution_count": 41,
   "id": "5f132ffc",
   "metadata": {},
   "outputs": [
    {
     "name": "stdout",
     "output_type": "stream",
     "text": [
      "1\n",
      "210\n",
      "3210\n",
      "43210\n",
      "543210\n"
     ]
    }
   ],
   "source": [
    "num = 6\n",
    "\n",
    "for i in range(1,num):\n",
    "    if i == 1:\n",
    "        print(i)\n",
    "        continue\n",
    "    for j in range(i,-1,-1):\n",
    "        print(j, end=\"\")\n",
    "    print()"
   ]
  },
  {
   "cell_type": "code",
   "execution_count": 44,
   "id": "73a5f5fa",
   "metadata": {},
   "outputs": [
    {
     "name": "stdout",
     "output_type": "stream",
     "text": [
      "1\n",
      "210\n",
      "3210\n",
      "43210\n",
      "543210\n"
     ]
    }
   ],
   "source": [
    "num = 6\n",
    "# i = 2\n",
    "for i in range(1,num):     \n",
    "    for j in range(i,-1,-1):\n",
    "        if i == 1:\n",
    "            print(j, end=\"\")\n",
    "            break\n",
    "        else:\n",
    "            print(j, end=\"\")\n",
    "    print()"
   ]
  },
  {
   "cell_type": "code",
   "execution_count": 45,
   "id": "e7b2f4a9",
   "metadata": {},
   "outputs": [
    {
     "name": "stdout",
     "output_type": "stream",
     "text": [
      "10\n",
      "210\n",
      "3210\n",
      "43210\n",
      "543210\n"
     ]
    }
   ],
   "source": [
    "num = 6\n",
    "text = \"Temp\"\n",
    "\n",
    "for i in range(1,num):\n",
    "    for j in range(i,-1,-1):\n",
    "        print(j, end=\"\")\n",
    "    print()"
   ]
  },
  {
   "cell_type": "markdown",
   "id": "8bb67cef",
   "metadata": {},
   "source": [
    "# Python Collection\n"
   ]
  },
  {
   "cell_type": "markdown",
   "id": "c8432fed",
   "metadata": {},
   "source": [
    "- list\n",
    "- tuple\n",
    "- set\n",
    "- dictionary"
   ]
  },
  {
   "cell_type": "code",
   "execution_count": 6,
   "id": "e1b87680",
   "metadata": {},
   "outputs": [
    {
     "name": "stdout",
     "output_type": "stream",
     "text": [
      "['Hello', 'World', 'Hii', 56, 78, True, False]\n"
     ]
    }
   ],
   "source": [
    "list1 = [\"Hello\", \"World\", \"Hii\", 56, 78, True, False]\n",
    "print(list1)"
   ]
  },
  {
   "cell_type": "code",
   "execution_count": 3,
   "id": "65e087c6",
   "metadata": {},
   "outputs": [
    {
     "name": "stdout",
     "output_type": "stream",
     "text": [
      "World\n"
     ]
    }
   ],
   "source": [
    "print(list1[1])"
   ]
  },
  {
   "cell_type": "code",
   "execution_count": 5,
   "id": "e310efd5",
   "metadata": {},
   "outputs": [
    {
     "name": "stdout",
     "output_type": "stream",
     "text": [
      "['bye', 'World', 'Hii']\n"
     ]
    }
   ],
   "source": [
    "list1[0] = \"bye\"    # mutable\n",
    "print(list1)"
   ]
  },
  {
   "cell_type": "code",
   "execution_count": 7,
   "id": "384c0080",
   "metadata": {},
   "outputs": [
    {
     "name": "stdout",
     "output_type": "stream",
     "text": [
      "('I', 'am', 'developer', 12, True)\n"
     ]
    }
   ],
   "source": [
    "tuple1 = (\"I\", \"am\", \"developer\", 12, True)\n",
    "print(tuple1)"
   ]
  },
  {
   "cell_type": "code",
   "execution_count": 11,
   "id": "fac9d8f6",
   "metadata": {},
   "outputs": [
    {
     "ename": "TypeError",
     "evalue": "'tuple' object does not support item assignment",
     "output_type": "error",
     "traceback": [
      "\u001b[1;31m---------------------------------------------------------------------------\u001b[0m",
      "\u001b[1;31mTypeError\u001b[0m                                 Traceback (most recent call last)",
      "Cell \u001b[1;32mIn[11], line 1\u001b[0m\n\u001b[1;32m----> 1\u001b[0m tuple1[\u001b[38;5;241m1\u001b[39m] \u001b[38;5;241m=\u001b[39m \u001b[38;5;124m\"\u001b[39m\u001b[38;5;124mwas\u001b[39m\u001b[38;5;124m\"\u001b[39m\n\u001b[0;32m      2\u001b[0m \u001b[38;5;28mprint\u001b[39m(tuple1)\n",
      "\u001b[1;31mTypeError\u001b[0m: 'tuple' object does not support item assignment"
     ]
    }
   ],
   "source": [
    "tuple1[1] = \"was\" # Immutable\n",
    "print(tuple1)"
   ]
  },
  {
   "cell_type": "code",
   "execution_count": 12,
   "id": "8ef2ab15",
   "metadata": {},
   "outputs": [
    {
     "name": "stdout",
     "output_type": "stream",
     "text": [
      "{'I', False, 12, 'am'}\n"
     ]
    }
   ],
   "source": [
    "set1 = {\"I\", \"am\", 12, False}\n",
    "print(set1)"
   ]
  },
  {
   "cell_type": "code",
   "execution_count": 14,
   "id": "dc442c68",
   "metadata": {},
   "outputs": [
    {
     "name": "stdout",
     "output_type": "stream",
     "text": [
      "I\n",
      "False\n",
      "12\n",
      "am\n"
     ]
    }
   ],
   "source": [
    "for x in set1:\n",
    "    print(x)"
   ]
  },
  {
   "cell_type": "markdown",
   "id": "c2b230b5",
   "metadata": {},
   "source": [
    "## Dictionary"
   ]
  },
  {
   "cell_type": "code",
   "execution_count": 24,
   "id": "a4aa7670",
   "metadata": {},
   "outputs": [
    {
     "name": "stdout",
     "output_type": "stream",
     "text": [
      "{'name': 'KingRao', 'branch': 'CS', 'IsHostler': True, 'Room': 23}\n"
     ]
    }
   ],
   "source": [
    "dict1 = {\n",
    "    \"name\":\"KingRao\",\n",
    "    \"branch\": \"CS\",\n",
    "    \"IsHostler\": True,\n",
    "    \"Room\": 23\n",
    "\n",
    "}\n",
    "\n",
    "print(dict1)"
   ]
  },
  {
   "cell_type": "code",
   "execution_count": 25,
   "id": "f119a455",
   "metadata": {},
   "outputs": [
    {
     "name": "stdout",
     "output_type": "stream",
     "text": [
      "23\n"
     ]
    }
   ],
   "source": [
    "print(dict1[\"Room\"])"
   ]
  },
  {
   "cell_type": "code",
   "execution_count": 28,
   "id": "3e8feb88",
   "metadata": {},
   "outputs": [
    {
     "name": "stdout",
     "output_type": "stream",
     "text": [
      "{'maths': 33, 'english': 34, 'DSA': 50}\n"
     ]
    }
   ],
   "source": [
    "student = {\n",
    "    \"name\":\"KingRao\",\n",
    "    \"branch\": \"CS\",\n",
    "    \"IsHostler\": True,\n",
    "    \"Room\": 23,\n",
    "    \"marks\": {\n",
    "        \"maths\":33,\n",
    "        \"english\":34,\n",
    "        \"DSA\":45\n",
    "    },\n",
    "    \"hobbies\": [\"Singing\", \"Dancing\"]\n",
    "    \n",
    "}\n",
    "\n",
    "student[\"marks\"][\"DSA\"] = 50 # mutable\n",
    "print(student[\"marks\"])"
   ]
  },
  {
   "cell_type": "code",
   "execution_count": 1,
   "id": "b8ec0be7",
   "metadata": {},
   "outputs": [
    {
     "name": "stdout",
     "output_type": "stream",
     "text": [
      "Requirement already satisfied: pyautogui in c:\\users\\sanaya\\anaconda3\\lib\\site-packages (0.9.54)\n",
      "Requirement already satisfied: pymsgbox in c:\\users\\sanaya\\anaconda3\\lib\\site-packages (from pyautogui) (1.0.9)\n",
      "Requirement already satisfied: pytweening>=1.0.4 in c:\\users\\sanaya\\anaconda3\\lib\\site-packages (from pyautogui) (1.0.7)\n",
      "Requirement already satisfied: pyscreeze>=0.1.21 in c:\\users\\sanaya\\anaconda3\\lib\\site-packages (from pyautogui) (0.1.29)\n",
      "Requirement already satisfied: pygetwindow>=0.0.5 in c:\\users\\sanaya\\anaconda3\\lib\\site-packages (from pyautogui) (0.0.9)\n",
      "Requirement already satisfied: mouseinfo in c:\\users\\sanaya\\anaconda3\\lib\\site-packages (from pyautogui) (0.1.3)\n",
      "Requirement already satisfied: pyrect in c:\\users\\sanaya\\anaconda3\\lib\\site-packages (from pygetwindow>=0.0.5->pyautogui) (0.2.0)\n",
      "Requirement already satisfied: pyscreenshot in c:\\users\\sanaya\\anaconda3\\lib\\site-packages (from pyscreeze>=0.1.21->pyautogui) (3.1)\n",
      "Requirement already satisfied: Pillow>=9.3.0 in c:\\users\\sanaya\\anaconda3\\lib\\site-packages (from pyscreeze>=0.1.21->pyautogui) (9.4.0)\n",
      "Requirement already satisfied: pyperclip in c:\\users\\sanaya\\anaconda3\\lib\\site-packages (from mouseinfo->pyautogui) (1.8.2)\n",
      "Requirement already satisfied: EasyProcess in c:\\users\\sanaya\\anaconda3\\lib\\site-packages (from pyscreenshot->pyscreeze>=0.1.21->pyautogui) (1.1)\n",
      "Requirement already satisfied: entrypoint2 in c:\\users\\sanaya\\anaconda3\\lib\\site-packages (from pyscreenshot->pyscreeze>=0.1.21->pyautogui) (1.1)\n",
      "Requirement already satisfied: mss in c:\\users\\sanaya\\anaconda3\\lib\\site-packages (from pyscreenshot->pyscreeze>=0.1.21->pyautogui) (9.0.1)\n",
      "Note: you may need to restart the kernel to use updated packages.\n"
     ]
    }
   ],
   "source": [
    "pip install pyautogui"
   ]
  },
  {
   "cell_type": "code",
   "execution_count": 35,
   "id": "3d904b75",
   "metadata": {},
   "outputs": [],
   "source": [
    "import pyautogui as py"
   ]
  },
  {
   "cell_type": "code",
   "execution_count": 34,
   "id": "49192421",
   "metadata": {},
   "outputs": [],
   "source": [
    "import time"
   ]
  },
  {
   "cell_type": "code",
   "execution_count": 37,
   "id": "9d6eac43",
   "metadata": {},
   "outputs": [],
   "source": [
    "num = 50\n",
    "\n",
    "time.sleep(10)\n",
    "for i in range(num):\n",
    "    py.write(\"Hello\")\n",
    "    py.press(\"enter\")\n",
    "    \n",
    "    "
   ]
  },
  {
   "cell_type": "markdown",
   "id": "ebf70e6e",
   "metadata": {},
   "source": [
    "# List Comprehension"
   ]
  },
  {
   "cell_type": "code",
   "execution_count": 2,
   "id": "cec20a4a",
   "metadata": {},
   "outputs": [
    {
     "name": "stdout",
     "output_type": "stream",
     "text": [
      "[6, 15, 24]\n"
     ]
    }
   ],
   "source": [
    "matrix = [\n",
    "    [1,2,3],\n",
    "    [4,5,6],\n",
    "    [7,8,9]\n",
    "]\n",
    "\n",
    "rowSum = [sum(row) for row in matrix]\n",
    "\n",
    "print(rowSum)"
   ]
  },
  {
   "cell_type": "code",
   "execution_count": 6,
   "id": "4400ac4c",
   "metadata": {},
   "outputs": [
    {
     "ename": "SyntaxError",
     "evalue": "invalid syntax (1401338480.py, line 1)",
     "output_type": "error",
     "traceback": [
      "\u001b[1;36m  Cell \u001b[1;32mIn[6], line 1\u001b[1;36m\u001b[0m\n\u001b[1;33m    rowAdd = [(row++) for row in matrix]\u001b[0m\n\u001b[1;37m                    ^\u001b[0m\n\u001b[1;31mSyntaxError\u001b[0m\u001b[1;31m:\u001b[0m invalid syntax\n"
     ]
    }
   ],
   "source": [
    "rowAdd = [row for row in matrix]\n",
    "print(rowAdd)"
   ]
  },
  {
   "cell_type": "markdown",
   "id": "e9479b21",
   "metadata": {},
   "source": [
    "# List"
   ]
  },
  {
   "cell_type": "code",
   "execution_count": 7,
   "id": "30ad6d39",
   "metadata": {},
   "outputs": [
    {
     "name": "stdout",
     "output_type": "stream",
     "text": [
      "[12, 'Developer', True]\n"
     ]
    }
   ],
   "source": [
    "a = 34\n",
    "b = \"temporary\"\n",
    "\n",
    "list1 = [12, \"Developer\", True]\n",
    "print(list1)"
   ]
  },
  {
   "cell_type": "code",
   "execution_count": 9,
   "id": "ddfb9536",
   "metadata": {},
   "outputs": [
    {
     "name": "stdout",
     "output_type": "stream",
     "text": [
      "Developer\n"
     ]
    }
   ],
   "source": [
    "print(list1[1])"
   ]
  },
  {
   "cell_type": "code",
   "execution_count": 10,
   "id": "357dfdc7",
   "metadata": {},
   "outputs": [
    {
     "name": "stdout",
     "output_type": "stream",
     "text": [
      "[[23, 'Developer', False], [21, 'Docter', True], [26, 'Teacher', False]]\n"
     ]
    }
   ],
   "source": [
    "list2 = [\n",
    "    [23, \"Developer\", False],\n",
    "    [21, \"Docter\", True],\n",
    "    [26, \"Teacher\", False]\n",
    "]\n",
    "\n",
    "print(list2)"
   ]
  },
  {
   "cell_type": "code",
   "execution_count": 11,
   "id": "6451abcb",
   "metadata": {},
   "outputs": [
    {
     "name": "stdout",
     "output_type": "stream",
     "text": [
      "[23, 'Developer', False]\n"
     ]
    }
   ],
   "source": [
    "print(list2[0])"
   ]
  },
  {
   "cell_type": "code",
   "execution_count": 16,
   "id": "cc6affda",
   "metadata": {},
   "outputs": [
    {
     "name": "stdout",
     "output_type": "stream",
     "text": [
      "Teacher\n"
     ]
    }
   ],
   "source": [
    "print(list2[2][1])"
   ]
  },
  {
   "cell_type": "code",
   "execution_count": 20,
   "id": "1d8c2258",
   "metadata": {},
   "outputs": [],
   "source": [
    "matrix2 = [\n",
    "    [23,45,68],\n",
    "    [12,34,56],\n",
    "    [67,56,67],\n",
    "    [67,65,45],\n",
    "    [23,45,68],\n",
    "    [12,34,56],\n",
    "    [67,56,67],\n",
    "    [67,65,45]  \n",
    "]\n",
    "\n"
   ]
  },
  {
   "cell_type": "markdown",
   "id": "32bb5c04",
   "metadata": {},
   "source": [
    "## list comprehension"
   ]
  },
  {
   "cell_type": "code",
   "execution_count": 26,
   "id": "8970753c",
   "metadata": {
    "scrolled": false
   },
   "outputs": [
    {
     "name": "stdout",
     "output_type": "stream",
     "text": [
      "[12, 34, 10, 21, 39]\n"
     ]
    }
   ],
   "source": [
    "numbers = [12, 34, 10, 55, 67, 21, 39, 78, 56]\n",
    "numbers2 = [num for num in numbers if num < 40]\n",
    "\n",
    "print(numbers2)"
   ]
  },
  {
   "cell_type": "code",
   "execution_count": 28,
   "id": "be216b08",
   "metadata": {},
   "outputs": [
    {
     "name": "stdout",
     "output_type": "stream",
     "text": [
      "[12, 34, 10, 21, 39]\n"
     ]
    }
   ],
   "source": [
    "num1 = [12, 34, 10, 55, 67, 21, 39, 78, 56]\n",
    "num2 = []\n",
    "\n",
    "for i in num1:\n",
    "    if i < 40:\n",
    "        num2.append(i)\n",
    "        \n",
    "print(num2)"
   ]
  },
  {
   "cell_type": "code",
   "execution_count": 21,
   "id": "8dd97219",
   "metadata": {},
   "outputs": [],
   "source": [
    "rowSum = [sum(row) for row in matrix2]"
   ]
  },
  {
   "cell_type": "code",
   "execution_count": 22,
   "id": "3c34f217",
   "metadata": {},
   "outputs": [
    {
     "name": "stdout",
     "output_type": "stream",
     "text": [
      "[136, 102, 190, 177, 136, 102, 190, 177]\n"
     ]
    }
   ],
   "source": [
    "print(rowSum)"
   ]
  },
  {
   "cell_type": "code",
   "execution_count": 3,
   "id": "75652b41",
   "metadata": {},
   "outputs": [
    {
     "name": "stdout",
     "output_type": "stream",
     "text": [
      "26\n"
     ]
    }
   ],
   "source": [
    "\n",
    "a = ['a','b','c','d','e','f','g','h','i','j','k', 'l', 'm', 'n', 'o', 'p', 'q', 'r', 's', 't', 'u', 'v', 'w', 'x', 'y', 'z']\n",
    "c = [l.upper() for l in a]\n",
    "print(len(c))"
   ]
  },
  {
   "cell_type": "markdown",
   "id": "b37e044b",
   "metadata": {},
   "source": [
    "## Task#012"
   ]
  },
  {
   "cell_type": "code",
   "execution_count": null,
   "id": "3a36b183",
   "metadata": {},
   "outputs": [],
   "source": [
    "u_pass = input(\"Enter Your Password: \")\n",
    "crack_pass = ''\n",
    "\n",
    "small_alpha = ['a','b','c','d','e','f','g','h','i','j','k', 'l', 'm', 'n', 'o', 'p', 'q', 'r', 's',\n",
    "               't', 'u', 'v', 'w', 'x', 'y', 'z']\n",
    "cap_alpha = ['A', 'B', 'C', 'D', 'E', 'F', 'G', 'H', 'I', 'J', 'K', 'L', 'M', 'N', 'O', 'P', 'Q', 'R', 'S',\n",
    "             'T', 'U', 'V', 'W', 'X', 'Y', 'Z']\n",
    "number = ['1','2','3','4','5','6','7','8','9','0']\n",
    "char = [')','(','*','&','^','%','$','#','@','!']\n",
    "\n",
    "pass_len = 3\n",
    "\n"
   ]
  }
 ],
 "metadata": {
  "kernelspec": {
   "display_name": "Python 3 (ipykernel)",
   "language": "python",
   "name": "python3"
  },
  "language_info": {
   "codemirror_mode": {
    "name": "ipython",
    "version": 3
   },
   "file_extension": ".py",
   "mimetype": "text/x-python",
   "name": "python",
   "nbconvert_exporter": "python",
   "pygments_lexer": "ipython3",
   "version": "3.11.4"
  }
 },
 "nbformat": 4,
 "nbformat_minor": 5
}
