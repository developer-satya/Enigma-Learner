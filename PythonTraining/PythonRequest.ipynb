{
 "cells": [
  {
   "cell_type": "markdown",
   "id": "a4a7de80",
   "metadata": {},
   "source": [
    "# Python request"
   ]
  },
  {
   "cell_type": "code",
   "execution_count": 1,
   "id": "68cb5ef6",
   "metadata": {},
   "outputs": [],
   "source": [
    "import subprocess"
   ]
  },
  {
   "cell_type": "code",
   "execution_count": 2,
   "id": "36b4d1e1",
   "metadata": {},
   "outputs": [
    {
     "name": "stdout",
     "output_type": "stream",
     "text": [
      "1. Notepad\n",
      "2. Cmd\n",
      "3. Chrome\n",
      "4. Edge\n",
      "5. VS Code\n",
      "6. MS Word\n",
      "7. MS Powerpoint\n",
      "8. MS Excel\n",
      "Enter your choice in number: 2\n",
      "Cmd is launched successfully!\n"
     ]
    }
   ],
   "source": [
    "def launch_application(application_name, application_path):\n",
    "    try:\n",
    "        subprocess.Popen(application_path)\n",
    "        print(f\"{application_name} is launched successfully!\")\n",
    "    except Exception as e:\n",
    "        print(f\"Error: {e}\")\n",
    "\n",
    "\n",
    "def print_application_list(applications):\n",
    "    for i, app in enumerate(applications, start=1):\n",
    "        print(f\"{i}. {app}\")\n",
    "        \n",
    "\n",
    "def main():\n",
    "    application_list = [\"Notepad\", \"Cmd\", \"Chrome\", \"Edge\", \"VS Code\", \"MS Word\", \"MS Powerpoint\", \"MS Excel\"]\n",
    "    application_path = [\"notepad\",\"C:\\\\Windows\\\\system32\\\\cmd.exe\", \"C:\\\\Program Files\\\\Google\\\\Chrome\\\\Application\\\\chrome.exe\", \n",
    "                        \"C:\\\\Program Files (x86)\\\\Microsoft\\\\Edge\\\\Application\\\\msedge.exe\",\n",
    "                        \"C:\\\\Users\\\\sanaya\\\\Downloads\\\\VSCodeUserSetup-x64-1.74.2.exe\",  \n",
    "                        \"C:\\\\ProgramData\\\\Microsoft\\\\Windows\\\\Start Menu\\\\Programs\\\\Word.lnk\", \n",
    "                        \"C:\\\\Program Files\\\\Microsoft Office\\\\root\\\\Office16\\\\POWERPNT.EXE\", \n",
    "                        \"C:\\\\Program Files\\\\Microsoft Office\\\\root\\\\Office16\\\\EXCEL.EXE\"]\n",
    "    print_application_list(application_list)\n",
    "    choice = int(input(\"Enter your choice in number: \"))\n",
    "    \n",
    "    if 1 <= choice <= len(application_list):\n",
    "        launch_application(application_list[choice-1], application_path[choice-1])\n",
    "    else:\n",
    "        print(\"Invalid Input. Choose right Option from the menu.\")\n",
    "\n",
    "if __name__ == \"__main__\":\n",
    "    main()\n",
    "    "
   ]
  },
  {
   "cell_type": "markdown",
   "id": "a0c04859",
   "metadata": {},
   "source": [
    "# Python Driver"
   ]
  },
  {
   "cell_type": "code",
   "execution_count": 3,
   "id": "da356d7e",
   "metadata": {},
   "outputs": [],
   "source": [
    "import cv2"
   ]
  },
  {
   "cell_type": "code",
   "execution_count": 4,
   "id": "f28c45b0",
   "metadata": {},
   "outputs": [],
   "source": [
    "cap = cv2.VideoCapture(0)\n",
    "if not cap.isOpened():\n",
    "    print(\"Error: Not Available!\")\n",
    "    exit()"
   ]
  },
  {
   "cell_type": "code",
   "execution_count": null,
   "id": "719e23ed",
   "metadata": {
    "scrolled": true
   },
   "outputs": [],
   "source": [
    "while True:\n",
    "    ret, frame = cap.read()\n",
    "    if not ret:\n",
    "        print(\"Error: Not Capturing\")\n",
    "        break"
   ]
  },
  {
   "cell_type": "code",
   "execution_count": null,
   "id": "601f5119",
   "metadata": {},
   "outputs": [],
   "source": [
    "cv2.imshow(\"Camera Feed\", frame)"
   ]
  },
  {
   "cell_type": "code",
   "execution_count": null,
   "id": "f7854e83",
   "metadata": {},
   "outputs": [],
   "source": [
    "if cv2.waitKey(1) == 27:\n",
    "    break"
   ]
  },
  {
   "cell_type": "code",
   "execution_count": 11,
   "id": "fca24c76",
   "metadata": {},
   "outputs": [],
   "source": [
    "cap.release()\n",
    "cv2.destroyAllWindows()"
   ]
  },
  {
   "cell_type": "code",
   "execution_count": null,
   "id": "38bba4aa",
   "metadata": {},
   "outputs": [],
   "source": []
  }
 ],
 "metadata": {
  "kernelspec": {
   "display_name": "Python 3 (ipykernel)",
   "language": "python",
   "name": "python3"
  },
  "language_info": {
   "codemirror_mode": {
    "name": "ipython",
    "version": 3
   },
   "file_extension": ".py",
   "mimetype": "text/x-python",
   "name": "python",
   "nbconvert_exporter": "python",
   "pygments_lexer": "ipython3",
   "version": "3.11.4"
  }
 },
 "nbformat": 4,
 "nbformat_minor": 5
}
