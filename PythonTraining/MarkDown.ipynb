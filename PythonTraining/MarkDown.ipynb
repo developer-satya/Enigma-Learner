{
 "cells": [
  {
   "cell_type": "markdown",
   "id": "1b202f48",
   "metadata": {},
   "source": [
    "# MarkDown Headings\n"
   ]
  },
  {
   "cell_type": "markdown",
   "id": "1ca91a06",
   "metadata": {},
   "source": [
    "# Heading 1\n",
    "## Heading 2\n",
    "### Heading 3\n",
    "#### Heading 4\n",
    "##### Heading 5\n",
    "###### Heading 6"
   ]
  },
  {
   "cell_type": "markdown",
   "id": "1f491ff5",
   "metadata": {},
   "source": [
    "# MarkDown Paragraph, Bold, Italic"
   ]
  },
  {
   "cell_type": "markdown",
   "id": "0848b791",
   "metadata": {},
   "source": [
    "This is line 1 of paragrph.  \n",
    "This is line 2 of paragraph.  \n",
    "\n",
    "This is **Bold** text, this is *italic* text and this text is in ***Bold and italic*** both."
   ]
  },
  {
   "cell_type": "markdown",
   "id": "0495924e",
   "metadata": {},
   "source": [
    "# MarkDown List "
   ]
  },
  {
   "cell_type": "markdown",
   "id": "c7a58963",
   "metadata": {},
   "source": [
    "This is list:\n",
    "- item 1\n",
    "- item 2\n",
    "- item 3"
   ]
  },
  {
   "cell_type": "markdown",
   "id": "10335ad5",
   "metadata": {},
   "source": [
    "This is list\n",
    "- item 1\n",
    "- item 2\n",
    "- item 3"
   ]
  },
  {
   "cell_type": "markdown",
   "id": "b5d476dc",
   "metadata": {},
   "source": [
    "# MarkDown Blockquote"
   ]
  },
  {
   "cell_type": "markdown",
   "id": "8cb67eaa",
   "metadata": {},
   "source": [
    "> This is quote\n",
    ">> This is nested quote"
   ]
  },
  {
   "cell_type": "markdown",
   "id": "03a64633",
   "metadata": {},
   "source": [
    "> This is quote\n",
    ">> This is quote 2"
   ]
  },
  {
   "cell_type": "markdown",
   "id": "d5d61289",
   "metadata": {},
   "source": [
    "# MarkDown Images & Links"
   ]
  },
  {
   "cell_type": "markdown",
   "id": "94c12361",
   "metadata": {},
   "source": [
    "[![image not found](https://icon-library.com/images/submit-button-icon-png/submit-button-icon-png-9.jpg)](https://www.google.com)"
   ]
  },
  {
   "cell_type": "markdown",
   "id": "61dc93ac",
   "metadata": {},
   "source": [
    "[Google](https://www.google.com)\n",
    "\n",
    "[//]: # (Here a variable is created)\n",
    "[g]: <https://www.google.com>\n",
    "\n",
    "\n",
    "[Click Me][g]"
   ]
  },
  {
   "cell_type": "markdown",
   "id": "33a4d478",
   "metadata": {},
   "source": [
    "# MarkDown Comments"
   ]
  },
  {
   "cell_type": "markdown",
   "id": "83d8c509",
   "metadata": {},
   "source": [
    "👇Here are some syntax to comments in MarkDown\n",
    "\n",
    "[comment]: <> (This line is commented)\n",
    "\n",
    "[//]: <> (This is also commented)\n",
    "\n",
    "[//]: # (This is also commented)\n",
    "\n",
    "[//]: # \"This is also commented\"\n",
    "\n",
    "👆 Above "
   ]
  },
  {
   "cell_type": "markdown",
   "id": "21dba952",
   "metadata": {},
   "source": [
    "# MarkDown Table"
   ]
  },
  {
   "cell_type": "markdown",
   "id": "8c50f3cb",
   "metadata": {},
   "source": [
    "**This is a table**\n",
    "| Name | Room No. |\n",
    "| ------ |------ |\n",
    "| Shivam Chandra | 38 |\n",
    "| Suryansh Mishra | 37 |\n",
    "| Arshad Ashrafi | 82 |"
   ]
  },
  {
   "cell_type": "markdown",
   "id": "8c37ebc4",
   "metadata": {},
   "source": [
    "# MarkDown Text in Shell"
   ]
  },
  {
   "cell_type": "markdown",
   "id": "29a59d85",
   "metadata": {},
   "source": [
    "This is a path `C:\\users\\downloads`\n",
    "\n",
    "```python\n",
    "print(\"Hello World\")\n",
    "```\n",
    "\n",
    "```sh\n",
    "npm install node\n",
    "\n",
    "```"
   ]
  }
 ],
 "metadata": {
  "kernelspec": {
   "display_name": "Python 3 (ipykernel)",
   "language": "python",
   "name": "python3"
  },
  "language_info": {
   "codemirror_mode": {
    "name": "ipython",
    "version": 3
   },
   "file_extension": ".py",
   "mimetype": "text/x-python",
   "name": "python",
   "nbconvert_exporter": "python",
   "pygments_lexer": "ipython3",
   "version": "3.11.4"
  }
 },
 "nbformat": 4,
 "nbformat_minor": 5
}
