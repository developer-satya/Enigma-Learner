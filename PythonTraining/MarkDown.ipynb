{
 "cells": [
  {
   "cell_type": "markdown",
   "id": "1b202f48",
   "metadata": {},
   "source": [
    "# MarkDown Headings\n"
   ]
  },
  {
   "cell_type": "markdown",
   "id": "1ca91a06",
   "metadata": {},
   "source": [
    "# Heading 1\n",
    "## Heading 2\n",
    "### Heading 3\n",
    "#### Heading 4\n",
    "##### Heading 5\n",
    "###### Heading 6"
   ]
  },
  {
   "cell_type": "markdown",
   "id": "1f491ff5",
   "metadata": {},
   "source": [
    "# MarkDown Paragraph, Bold, Italic"
   ]
  },
  {
   "cell_type": "markdown",
   "id": "0848b791",
   "metadata": {},
   "source": [
    "This is line 1 of paragrph.  \n",
    "This is line 2 of paragraph.  \n",
    "\n",
    "This is **Bold** text, this is *italic* text and this text is in ***Bold and italic*** both."
   ]
  },
  {
   "cell_type": "markdown",
   "id": "0495924e",
   "metadata": {},
   "source": [
    "# MarkDown List "
   ]
  },
  {
   "cell_type": "markdown",
   "id": "c7a58963",
   "metadata": {},
   "source": [
    "This is list:\n",
    "- item 1\n",
    "- item 2\n",
    "- item 3"
   ]
  },
  {
   "cell_type": "markdown",
   "id": "10335ad5",
   "metadata": {},
   "source": [
    "This is list\n",
    "- item 1\n",
    "- item 2\n",
    "- item 3"
   ]
  },
  {
   "cell_type": "markdown",
   "id": "b5d476dc",
   "metadata": {},
   "source": [
    "# MarkDown Blockquote"
   ]
  },
  {
   "cell_type": "markdown",
   "id": "8cb67eaa",
   "metadata": {},
   "source": [
    "> This is quote\n",
    ">> This is nested quote"
   ]
  },
  {
   "cell_type": "markdown",
   "id": "03a64633",
   "metadata": {},
   "source": [
    "> This is quote\n",
    ">> This is quote 2"
   ]
  },
  {
   "cell_type": "markdown",
   "id": "d5d61289",
   "metadata": {},
   "source": [
    "# MarkDown Images & Links"
   ]
  },
  {
   "cell_type": "markdown",
   "id": "94c12361",
   "metadata": {},
   "source": [
    "[![image not found](https://icon-library.com/images/submit-button-icon-png/submit-button-icon-png-9.jpg)](https://www.google.com)"
   ]
  },
  {
   "cell_type": "markdown",
   "id": "61dc93ac",
   "metadata": {},
   "source": [
    "[Google](https://www.google.com)\n",
    "\n",
    "[//]: # (Here a variable is created)\n",
    "[g]: <https://www.google.com>\n",
    "\n",
    "\n",
    "[Click Me][g]"
   ]
  },
  {
   "cell_type": "markdown",
   "id": "33a4d478",
   "metadata": {},
   "source": [
    "# MarkDown Comments"
   ]
  },
  {
   "cell_type": "markdown",
   "id": "83d8c509",
   "metadata": {},
   "source": [
    "👇Here are some syntax to comments in MarkDown\n",
    "\n",
    "[comment]: <> (This line is commented)\n",
    "\n",
    "[//]: <> (This is also commented)\n",
    "\n",
    "[//]: # (This is also commented)\n",
    "\n",
    "[//]: # \"This is also commented\"\n",
    "\n",
    "👆 Above "
   ]
  },
  {
   "cell_type": "markdown",
   "id": "21dba952",
   "metadata": {},
   "source": [
    "# MarkDown Table"
   ]
  },
  {
   "cell_type": "markdown",
   "id": "8c50f3cb",
   "metadata": {},
   "source": [
    "**This is a table**\n",
    "| Name | Room No. |\n",
    "| ------ |------ |\n",
    "| Shivam Chandra | 38 |\n",
    "| Suryansh Mishra | 37 |\n",
    "| Arshad Ashrafi | 82 |"
   ]
  },
  {
   "cell_type": "markdown",
   "id": "8c37ebc4",
   "metadata": {},
   "source": [
    "# MarkDown Text in Shell"
   ]
  },
  {
   "cell_type": "markdown",
   "id": "29a59d85",
   "metadata": {},
   "source": [
    "This is a path `C:\\users\\downloads`\n",
    "\n",
    "```python\n",
    "print(\"Hello World\")\n",
    "```\n",
    "\n",
    "```sh\n",
    "npm install node\n",
    "\n",
    "```"
   ]
  },
  {
   "cell_type": "markdown",
   "id": "23a8cdf2",
   "metadata": {},
   "source": [
    "# -----------------------------------------Python--------------------------------------------------"
   ]
  },
  {
   "cell_type": "markdown",
   "id": "b2f17b2b",
   "metadata": {},
   "source": [
    "# First Program in python"
   ]
  },
  {
   "cell_type": "code",
   "execution_count": null,
   "id": "32c8ac12",
   "metadata": {
    "scrolled": true
   },
   "outputs": [
    {
     "name": "stdout",
     "output_type": "stream",
     "text": [
      "Hello World\n"
     ]
    }
   ],
   "source": [
    "print(\"Hello World\")"
   ]
  },
  {
   "cell_type": "code",
   "execution_count": 2,
   "id": "4afabef0",
   "metadata": {},
   "outputs": [
    {
     "name": "stdout",
     "output_type": "stream",
     "text": [
      "12 Hello True\n"
     ]
    }
   ],
   "source": [
    "var1 = 12\n",
    "var2 = \"Hello\"\n",
    "var3 = True\n",
    "print(var1,var2,var3)"
   ]
  },
  {
   "cell_type": "code",
   "execution_count": 3,
   "id": "1b797e47",
   "metadata": {},
   "outputs": [
    {
     "name": "stdout",
     "output_type": "stream",
     "text": [
      "This is test string Hello. this is number 12 \n"
     ]
    }
   ],
   "source": [
    "print(f\"This is test string {var2}. this is number {var1} \")"
   ]
  },
  {
   "cell_type": "code",
   "execution_count": 7,
   "id": "ddd65caa",
   "metadata": {},
   "outputs": [
    {
     "name": "stdout",
     "output_type": "stream",
     "text": [
      "this is string Hello this is number \n"
     ]
    }
   ],
   "source": [
    "print(\"this is string \"+var2+\" this is number \")"
   ]
  },
  {
   "cell_type": "markdown",
   "id": "57004db9",
   "metadata": {},
   "source": [
    "# Operators"
   ]
  },
  {
   "cell_type": "code",
   "execution_count": 8,
   "id": "5610b17f",
   "metadata": {},
   "outputs": [
    {
     "name": "stdout",
     "output_type": "stream",
     "text": [
      "18\n"
     ]
    }
   ],
   "source": [
    "num1 = 12\n",
    "num2 = 6\n",
    "num3 = 5\n",
    "print(num1 + num2)"
   ]
  },
  {
   "cell_type": "code",
   "execution_count": 9,
   "id": "084107df",
   "metadata": {},
   "outputs": [
    {
     "name": "stdout",
     "output_type": "stream",
     "text": [
      "6\n"
     ]
    }
   ],
   "source": [
    "print(num1 - num2)"
   ]
  },
  {
   "cell_type": "code",
   "execution_count": 10,
   "id": "cf4e3543",
   "metadata": {},
   "outputs": [
    {
     "name": "stdout",
     "output_type": "stream",
     "text": [
      "60\n"
     ]
    }
   ],
   "source": [
    "print(num1 * num3)"
   ]
  },
  {
   "cell_type": "code",
   "execution_count": 11,
   "id": "d376b31b",
   "metadata": {},
   "outputs": [
    {
     "name": "stdout",
     "output_type": "stream",
     "text": [
      "2.0\n"
     ]
    }
   ],
   "source": [
    "print(num1 / num2)"
   ]
  },
  {
   "cell_type": "code",
   "execution_count": 12,
   "id": "75bc87fd",
   "metadata": {},
   "outputs": [
    {
     "name": "stdout",
     "output_type": "stream",
     "text": [
      "125\n"
     ]
    }
   ],
   "source": [
    "print(num3 ** 3)"
   ]
  },
  {
   "cell_type": "code",
   "execution_count": 13,
   "id": "351ca0cf",
   "metadata": {},
   "outputs": [
    {
     "name": "stdout",
     "output_type": "stream",
     "text": [
      "2\n"
     ]
    }
   ],
   "source": [
    "print(num1 % num3)"
   ]
  },
  {
   "cell_type": "markdown",
   "id": "1216665f",
   "metadata": {},
   "source": [
    "# Conditional Statements"
   ]
  },
  {
   "cell_type": "markdown",
   "id": "9db7d46a",
   "metadata": {},
   "source": [
    "#### If Statement"
   ]
  },
  {
   "cell_type": "code",
   "execution_count": 19,
   "id": "2e6aa28b",
   "metadata": {},
   "outputs": [
    {
     "name": "stdout",
     "output_type": "stream",
     "text": [
      "Enter a number: 47\n",
      "47\n",
      "<class 'str'>\n",
      "47\n",
      "<class 'int'>\n"
     ]
    }
   ],
   "source": [
    "num1 = input(\"Enter a number: \")\n",
    "num2 = int(num1)\n",
    "print(num1)\n",
    "print(type(num1))\n",
    "\n",
    "print(num2)\n",
    "print(type(num2))"
   ]
  },
  {
   "cell_type": "code",
   "execution_count": 24,
   "id": "5ff59c64",
   "metadata": {},
   "outputs": [
    {
     "name": "stdout",
     "output_type": "stream",
     "text": [
      "Enter your age: 14\n"
     ]
    }
   ],
   "source": [
    "age = int(input(\"Enter your age: \"))\n",
    "if age >= 18:\n",
    "    print(\"you can vote.\")"
   ]
  },
  {
   "cell_type": "markdown",
   "id": "0686a40f",
   "metadata": {},
   "source": [
    "#### If else statement"
   ]
  },
  {
   "cell_type": "code",
   "execution_count": 26,
   "id": "3af5c454",
   "metadata": {},
   "outputs": [
    {
     "name": "stdout",
     "output_type": "stream",
     "text": [
      "Enter your age: 25\n",
      "you can vote.\n"
     ]
    }
   ],
   "source": [
    "age = int(input(\"Enter your age: \"))\n",
    "if age >= 18:\n",
    "    print(\"you can vote.\")\n",
    "else:\n",
    "    print(\"you can't vote\")"
   ]
  },
  {
   "cell_type": "markdown",
   "id": "005903bc",
   "metadata": {},
   "source": [
    "#### If else ladder statement"
   ]
  },
  {
   "cell_type": "markdown",
   "id": "62a48ba2",
   "metadata": {},
   "source": [
    "if marks > 60        let marks = 39\n",
    "    1st division\n",
    "\n",
    "else if marks > 50\n",
    "    2nd division\n",
    "    \n",
    "else if marks > 40\n",
    "    3rd division\n",
    "    \n",
    "else \n",
    "    fail"
   ]
  },
  {
   "cell_type": "code",
   "execution_count": 30,
   "id": "1e24918b",
   "metadata": {},
   "outputs": [
    {
     "name": "stdout",
     "output_type": "stream",
     "text": [
      "Enter your marks: 39\n",
      "Fail\n"
     ]
    }
   ],
   "source": [
    "marks = int(input(\"Enter your marks: \"))\n",
    "\n",
    "if marks >= 60:\n",
    "    print(\"1st Division.\")\n",
    "elif marks >=50:\n",
    "    print(\"2nd Division\")\n",
    "elif marks >= 40:\n",
    "    print(\"3rd Division\")\n",
    "else:\n",
    "    print(\"Fail\")\n"
   ]
  },
  {
   "cell_type": "markdown",
   "id": "99596009",
   "metadata": {},
   "source": [
    "#### Nested if statement "
   ]
  },
  {
   "cell_type": "markdown",
   "id": "9766344b",
   "metadata": {},
   "source": [
    "if color == black:\n",
    "    if size == M:\n",
    "        bought it\n",
    "    else:\n",
    "        go to another shop\n",
    "else if color == blue:\n",
    "    if size == M\n",
    "        bought it\n",
    "    else:\n",
    "        go to another shop\n",
    "else:\n",
    "    go to another shop\n",
    "    "
   ]
  },
  {
   "cell_type": "code",
   "execution_count": 4,
   "id": "0eb410e0",
   "metadata": {},
   "outputs": [
    {
     "name": "stdout",
     "output_type": "stream",
     "text": [
      "Enter your marks: 10\n",
      "Failed\n"
     ]
    }
   ],
   "source": [
    "marks = int(input(\"Enter your marks: \"))\n",
    "\n",
    "if marks > 40:\n",
    "    if marks > 60:\n",
    "        print(\"1st Division\")\n",
    "    elif marks > 50:\n",
    "        print(\"2nd Division\")\n",
    "    elif marks > 40:\n",
    "        print(\"3rd division\")\n",
    "else:\n",
    "    print(\"Failed\")"
   ]
  }
 ],
 "metadata": {
  "kernelspec": {
   "display_name": "Python 3 (ipykernel)",
   "language": "python",
   "name": "python3"
  },
  "language_info": {
   "codemirror_mode": {
    "name": "ipython",
    "version": 3
   },
   "file_extension": ".py",
   "mimetype": "text/x-python",
   "name": "python",
   "nbconvert_exporter": "python",
   "pygments_lexer": "ipython3",
   "version": "3.11.4"
  }
 },
 "nbformat": 4,
 "nbformat_minor": 5
}
